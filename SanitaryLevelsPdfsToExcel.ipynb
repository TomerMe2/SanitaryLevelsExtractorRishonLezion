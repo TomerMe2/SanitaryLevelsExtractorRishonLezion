{
  "nbformat": 4,
  "nbformat_minor": 0,
  "metadata": {
    "colab": {
      "name": "SanitaryLevelsPdfsToExcel.ipynb",
      "provenance": [],
      "collapsed_sections": []
    },
    "kernelspec": {
      "name": "python3",
      "display_name": "Python 3"
    },
    "language_info": {
      "name": "python"
    }
  },
  "cells": [
    {
      "cell_type": "markdown",
      "metadata": {
        "id": "C0mtxU1Lywpe"
      },
      "source": [
        "#**Extracting sanitary checkups results from Rishon Lezion's municipal data**"
      ]
    },
    {
      "cell_type": "markdown",
      "metadata": {
        "id": "IIALlIVlyV1N"
      },
      "source": [
        "\"התנועה לחופש המידע\"  made a freedom of information request (בקשה לחופש מידע) to Rishon Lezion municipality in order to receive this data. <br/>\n",
        "More info can be found here: https://www.meida.org.il/?p=11611 <br/>\n",
        "\n",
        "The municipality published this data in a ZIP file that contains a lot of PDFs with super generic names, like: 'דוח ביקורת (18)'. <br/>\n",
        "Most of the times, you couldn't tell the resturant name from the file name. <br/>\n",
        "\n",
        "As a citizen of Rishon Lezion I wanted to know if there are locations that I eat in that have poor sanitary. <br/>\n",
        "I made this code to create an excel file to search for locations and to look on the data in an organized way. <br/>\n",
        "The xlsx file that this notebook outputs (with some changes) can be found here: <br/>\n",
        "https://docs.google.com/spreadsheets/d/1xXSeL0NzFHiJ-lNoXwo6rvfhVkyRTw7lyOBnxiTU4oA/edit#gid=1376681010\n"
      ]
    },
    {
      "cell_type": "markdown",
      "metadata": {
        "id": "oFn4MnUybyWG"
      },
      "source": [
        "I'm using Tesseract OCR with some search heuristics to locate the important lines and then I'm extracting the important data from these lines. <br/>\n",
        "Using Levenshtein distance was cruicial to the success of the search heuristics because the OCR isn't perfect and it might detect texts that are off by a small amount of characters compared to the original text. For example, the OCR predicts 'ט' instead of 'ם' a lot of time."
      ]
    },
    {
      "cell_type": "code",
      "metadata": {
        "colab": {
          "base_uri": "https://localhost:8080/"
        },
        "id": "UCzFKZLoTws1",
        "outputId": "1424c1ce-b0b5-444f-e522-10786dba6a68"
      },
      "source": [
        "!sudo apt install tesseract-ocr\n",
        "!sudo apt-get install tesseract-ocr-heb\n",
        "!pip install pytesseract\n",
        "\n",
        "!sudo apt-get install poppler-utils\n",
        "!pip install pdf2image\n",
        "\n",
        "!pip install python-Levenshtein"
      ],
      "execution_count": 1,
      "outputs": [
        {
          "output_type": "stream",
          "name": "stdout",
          "text": [
            "Reading package lists... Done\n",
            "Building dependency tree       \n",
            "Reading state information... Done\n",
            "The following additional packages will be installed:\n",
            "  tesseract-ocr-eng tesseract-ocr-osd\n",
            "The following NEW packages will be installed:\n",
            "  tesseract-ocr tesseract-ocr-eng tesseract-ocr-osd\n",
            "0 upgraded, 3 newly installed, 0 to remove and 37 not upgraded.\n",
            "Need to get 4,795 kB of archives.\n",
            "After this operation, 15.8 MB of additional disk space will be used.\n",
            "Get:1 http://archive.ubuntu.com/ubuntu bionic/universe amd64 tesseract-ocr-eng all 4.00~git24-0e00fe6-1.2 [1,588 kB]\n",
            "Get:2 http://archive.ubuntu.com/ubuntu bionic/universe amd64 tesseract-ocr-osd all 4.00~git24-0e00fe6-1.2 [2,989 kB]\n",
            "Get:3 http://archive.ubuntu.com/ubuntu bionic/universe amd64 tesseract-ocr amd64 4.00~git2288-10f4998a-2 [218 kB]\n",
            "Fetched 4,795 kB in 2s (2,196 kB/s)\n",
            "debconf: unable to initialize frontend: Dialog\n",
            "debconf: (No usable dialog-like program is installed, so the dialog based frontend cannot be used. at /usr/share/perl5/Debconf/FrontEnd/Dialog.pm line 76, <> line 3.)\n",
            "debconf: falling back to frontend: Readline\n",
            "debconf: unable to initialize frontend: Readline\n",
            "debconf: (This frontend requires a controlling tty.)\n",
            "debconf: falling back to frontend: Teletype\n",
            "dpkg-preconfigure: unable to re-open stdin: \n",
            "Selecting previously unselected package tesseract-ocr-eng.\n",
            "(Reading database ... 155013 files and directories currently installed.)\n",
            "Preparing to unpack .../tesseract-ocr-eng_4.00~git24-0e00fe6-1.2_all.deb ...\n",
            "Unpacking tesseract-ocr-eng (4.00~git24-0e00fe6-1.2) ...\n",
            "Selecting previously unselected package tesseract-ocr-osd.\n",
            "Preparing to unpack .../tesseract-ocr-osd_4.00~git24-0e00fe6-1.2_all.deb ...\n",
            "Unpacking tesseract-ocr-osd (4.00~git24-0e00fe6-1.2) ...\n",
            "Selecting previously unselected package tesseract-ocr.\n",
            "Preparing to unpack .../tesseract-ocr_4.00~git2288-10f4998a-2_amd64.deb ...\n",
            "Unpacking tesseract-ocr (4.00~git2288-10f4998a-2) ...\n",
            "Setting up tesseract-ocr-osd (4.00~git24-0e00fe6-1.2) ...\n",
            "Setting up tesseract-ocr-eng (4.00~git24-0e00fe6-1.2) ...\n",
            "Setting up tesseract-ocr (4.00~git2288-10f4998a-2) ...\n",
            "Processing triggers for man-db (2.8.3-2ubuntu0.1) ...\n",
            "Reading package lists... Done\n",
            "Building dependency tree       \n",
            "Reading state information... Done\n",
            "The following NEW packages will be installed:\n",
            "  tesseract-ocr-heb\n",
            "0 upgraded, 1 newly installed, 0 to remove and 37 not upgraded.\n",
            "Need to get 431 kB of archives.\n",
            "After this operation, 976 kB of additional disk space will be used.\n",
            "Get:1 http://archive.ubuntu.com/ubuntu bionic/universe amd64 tesseract-ocr-heb all 4.00~git24-0e00fe6-1.2 [431 kB]\n",
            "Fetched 431 kB in 1s (399 kB/s)\n",
            "debconf: unable to initialize frontend: Dialog\n",
            "debconf: (No usable dialog-like program is installed, so the dialog based frontend cannot be used. at /usr/share/perl5/Debconf/FrontEnd/Dialog.pm line 76, <> line 1.)\n",
            "debconf: falling back to frontend: Readline\n",
            "debconf: unable to initialize frontend: Readline\n",
            "debconf: (This frontend requires a controlling tty.)\n",
            "debconf: falling back to frontend: Teletype\n",
            "dpkg-preconfigure: unable to re-open stdin: \n",
            "Selecting previously unselected package tesseract-ocr-heb.\n",
            "(Reading database ... 155060 files and directories currently installed.)\n",
            "Preparing to unpack .../tesseract-ocr-heb_4.00~git24-0e00fe6-1.2_all.deb ...\n",
            "Unpacking tesseract-ocr-heb (4.00~git24-0e00fe6-1.2) ...\n",
            "Setting up tesseract-ocr-heb (4.00~git24-0e00fe6-1.2) ...\n",
            "Collecting pytesseract\n",
            "  Downloading pytesseract-0.3.8.tar.gz (14 kB)\n",
            "Requirement already satisfied: Pillow in /usr/local/lib/python3.7/dist-packages (from pytesseract) (7.1.2)\n",
            "Building wheels for collected packages: pytesseract\n",
            "  Building wheel for pytesseract (setup.py) ... \u001b[?25l\u001b[?25hdone\n",
            "  Created wheel for pytesseract: filename=pytesseract-0.3.8-py2.py3-none-any.whl size=14072 sha256=9a47c6ef0b21f83cb7c91d875474a038d1bc982143c463905a5deab3aa32b443\n",
            "  Stored in directory: /root/.cache/pip/wheels/a4/89/b9/3f11250225d0f90e5454fcc30fd1b7208db226850715aa9ace\n",
            "Successfully built pytesseract\n",
            "Installing collected packages: pytesseract\n",
            "Successfully installed pytesseract-0.3.8\n",
            "Reading package lists... Done\n",
            "Building dependency tree       \n",
            "Reading state information... Done\n",
            "The following NEW packages will be installed:\n",
            "  poppler-utils\n",
            "0 upgraded, 1 newly installed, 0 to remove and 37 not upgraded.\n",
            "Need to get 154 kB of archives.\n",
            "After this operation, 613 kB of additional disk space will be used.\n",
            "Get:1 http://archive.ubuntu.com/ubuntu bionic-updates/main amd64 poppler-utils amd64 0.62.0-2ubuntu2.12 [154 kB]\n",
            "Fetched 154 kB in 1s (179 kB/s)\n",
            "debconf: unable to initialize frontend: Dialog\n",
            "debconf: (No usable dialog-like program is installed, so the dialog based frontend cannot be used. at /usr/share/perl5/Debconf/FrontEnd/Dialog.pm line 76, <> line 1.)\n",
            "debconf: falling back to frontend: Readline\n",
            "debconf: unable to initialize frontend: Readline\n",
            "debconf: (This frontend requires a controlling tty.)\n",
            "debconf: falling back to frontend: Teletype\n",
            "dpkg-preconfigure: unable to re-open stdin: \n",
            "Selecting previously unselected package poppler-utils.\n",
            "(Reading database ... 155064 files and directories currently installed.)\n",
            "Preparing to unpack .../poppler-utils_0.62.0-2ubuntu2.12_amd64.deb ...\n",
            "Unpacking poppler-utils (0.62.0-2ubuntu2.12) ...\n",
            "Setting up poppler-utils (0.62.0-2ubuntu2.12) ...\n",
            "Processing triggers for man-db (2.8.3-2ubuntu0.1) ...\n",
            "Collecting pdf2image\n",
            "  Downloading pdf2image-1.16.0-py3-none-any.whl (10 kB)\n",
            "Requirement already satisfied: pillow in /usr/local/lib/python3.7/dist-packages (from pdf2image) (7.1.2)\n",
            "Installing collected packages: pdf2image\n",
            "Successfully installed pdf2image-1.16.0\n",
            "Collecting python-Levenshtein\n",
            "  Downloading python-Levenshtein-0.12.2.tar.gz (50 kB)\n",
            "\u001b[K     |████████████████████████████████| 50 kB 1.4 MB/s \n",
            "\u001b[?25hRequirement already satisfied: setuptools in /usr/local/lib/python3.7/dist-packages (from python-Levenshtein) (57.4.0)\n",
            "Building wheels for collected packages: python-Levenshtein\n",
            "  Building wheel for python-Levenshtein (setup.py) ... \u001b[?25l\u001b[?25hdone\n",
            "  Created wheel for python-Levenshtein: filename=python_Levenshtein-0.12.2-cp37-cp37m-linux_x86_64.whl size=149863 sha256=b193f468304cad5a62e9a8b7e0faa9d79e52764b101b970ca093e2de732afdab\n",
            "  Stored in directory: /root/.cache/pip/wheels/05/5f/ca/7c4367734892581bb5ff896f15027a932c551080b2abd3e00d\n",
            "Successfully built python-Levenshtein\n",
            "Installing collected packages: python-Levenshtein\n",
            "Successfully installed python-Levenshtein-0.12.2\n"
          ]
        }
      ]
    },
    {
      "cell_type": "code",
      "metadata": {
        "id": "zDrKDjLCT6tO"
      },
      "source": [
        "import pdf2image\n",
        "import pytesseract\n",
        "import glob\n",
        "import Levenshtein\n",
        "from tqdm import tqdm\n",
        "from dataclasses import dataclass\n",
        "import matplotlib.pyplot as plt\n",
        "from collections import Counter\n",
        "import pandas as pd"
      ],
      "execution_count": 2,
      "outputs": []
    },
    {
      "cell_type": "code",
      "metadata": {
        "colab": {
          "base_uri": "https://localhost:8080/"
        },
        "id": "juHLkBcSH9Z7",
        "outputId": "593f7298-00f6-4026-8b11-40d5b7b6e74f"
      },
      "source": [
        "# had to zip the file again on my local Windows machine because the original zip had encoding problems with Linux. The link for the new file on Google Drive is:\n",
        "# https://drive.google.com/file/d/1O0-gw0eUzyaDslQDXK6vK9HwLhaE28Bz/view?usp=sharing\n",
        "\n",
        "!gdown --id 1O0-gw0eUzyaDslQDXK6vK9HwLhaE28Bz"
      ],
      "execution_count": 3,
      "outputs": [
        {
          "output_type": "stream",
          "name": "stdout",
          "text": [
            "Downloading...\n",
            "From: https://drive.google.com/uc?id=1O0-gw0eUzyaDslQDXK6vK9HwLhaE28Bz\n",
            "To: /content/Sanitation-Rashletz.zip\n",
            "41.2MB [00:00, 66.9MB/s]\n"
          ]
        }
      ]
    },
    {
      "cell_type": "code",
      "metadata": {
        "colab": {
          "base_uri": "https://localhost:8080/"
        },
        "id": "KKLPHL8jy_Ln",
        "outputId": "c69462bc-3298-49d2-ae02-9d428ba448af"
      },
      "source": [
        "!unzip Sanitation-Rashletz.zip"
      ],
      "execution_count": 4,
      "outputs": [
        {
          "output_type": "stream",
          "name": "stdout",
          "text": [
            "Archive:  Sanitation-Rashletz.zip\n",
            "  inflating: דוח ביקורת (3).pdf  \n",
            "  inflating: דוח ביקורת (4).pdf  \n",
            "  inflating: דוח ביקורת (5).pdf  \n",
            "  inflating: דוח ביקורת (6).pdf  \n",
            "  inflating: דוח ביקורת (7).pdf  \n",
            "  inflating: דוח ביקורת (8).pdf  \n",
            "  inflating: דוח ביקורת (9).pdf  \n",
            "  inflating: דוח ביקורת (10).pdf  \n",
            "  inflating: דוח ביקורת (11).pdf  \n",
            "  inflating: דוח ביקורת (12).pdf  \n",
            "  inflating: דוח ביקורת (13).pdf  \n",
            "  inflating: דוח ביקורת (14) (1).pdf  \n",
            "  inflating: דוח ביקורת (14).pdf  \n",
            "  inflating: דוח ביקורת (15) (1).pdf  \n",
            "  inflating: דוח ביקורת (15).pdf  \n",
            "  inflating: דוח ביקורת (16) (1).pdf  \n",
            "  inflating: דוח ביקורת (16).pdf  \n",
            "  inflating: דוח ביקורת (17) (1).pdf  \n",
            "  inflating: דוח ביקורת (17).pdf  \n",
            "  inflating: דוח ביקורת (18) (1).pdf  \n",
            "  inflating: דוח ביקורת (18).pdf  \n",
            "  inflating: דוח ביקורת (19) (1).pdf  \n",
            "  inflating: דוח ביקורת (19).pdf  \n",
            "  inflating: דוח ביקורת (20) (1).pdf  \n",
            "  inflating: דוח ביקורת (20).pdf  \n",
            "  inflating: דוח ביקורת (21) (1).pdf  \n",
            "  inflating: דוח ביקורת (21).pdf  \n",
            "  inflating: דוח ביקורת (22) (1).pdf  \n",
            "  inflating: דוח ביקורת (22).pdf  \n",
            "  inflating: דוח ביקורת (23) (1).pdf  \n",
            "  inflating: דוח ביקורת (23).pdf  \n",
            "  inflating: דוח ביקורת (24).pdf  \n",
            "  inflating: דוח ביקורת (25).pdf  \n",
            "  inflating: דוח ביקורת (26).pdf  \n",
            "  inflating: דוח ביקורת (27).pdf  \n",
            "  inflating: דוח ביקורת (28).pdf  \n",
            "  inflating: דוח ביקורת (29).pdf  \n",
            "  inflating: דוח ביקורת (32).pdf  \n",
            "  inflating: דוח ביקורת (33).pdf  \n",
            "  inflating: דוח ביקורת (34).pdf  \n",
            "  inflating: דוח ביקורת (35).pdf  \n",
            "  inflating: דוח ביקורת (36).pdf  \n",
            "  inflating: דוח ביקורת (37).pdf  \n",
            "  inflating: דוח ביקורת (40).pdf  \n",
            "  inflating: דוח ביקורת (41).pdf  \n",
            "  inflating: דוח ביקורת (42).pdf  \n",
            "  inflating: דוח ביקורת (43).pdf  \n",
            "  inflating: דוח ביקורת (44).pdf  \n",
            "  inflating: דוח ביקורת (45).pdf  \n",
            "  inflating: דוח ביקורת (46).pdf  \n",
            "  inflating: דוח ביקורת (47).pdf  \n",
            "  inflating: דוח ביקורת (48).pdf  \n",
            "  inflating: דוח ביקורת (49).pdf  \n",
            "  inflating: דוח ביקורת (50).pdf  \n",
            "  inflating: דוח ביקורת- 03.05.2021.pdf  \n",
            "  inflating: דוח ביקורת 3 במאי 2021.pdf  \n",
            "  inflating: דוח ביקורת 4 במאי 2021 (2).pdf  \n",
            "  inflating: דוח ביקורת 4 במאי 2021 (3).pdf  \n",
            "  inflating: דוח ביקורת 4 במאי 2021.pdf  \n",
            "  inflating: דוח ביקורת 5 במאי 2021 (2).pdf  \n",
            "  inflating: דוח ביקורת 5 במאי 2021 (3).pdf  \n",
            "  inflating: דוח ביקורת 5 במאי 2021 (4).pdf  \n",
            "  inflating: דוח ביקורת 5 במאי 2021.pdf  \n",
            "  inflating: דוח ביקורת 7 ביוני 2021.pdf  \n",
            "  inflating: דוח ביקורת 24.05.2021.pdf  \n",
            "  inflating: דוח ביקורת- 30.06.2021.pdf  \n",
            "  inflating: דוח ביקורת ליקויים 16.06.2021.pdf  \n",
            "  inflating: דוח ביקורת ליקויים.pdf  \n",
            "  inflating: דוח ביקורת.pdf  \n",
            "  inflating: דוח ליקויים 10.05.2021 (2).pdf  \n",
            "  inflating: דוח ליקויים 10.05.2021.pdf  \n",
            "  inflating: דוח ליקויים 17.06.2021.pdf  \n",
            "  inflating: דוח ליקויים 26.05.2021.pdf  \n",
            "  inflating: דוח ליקויים 27.05.2021.pdf  \n",
            "  inflating: סלטים- סחרוב- 4.4.21.pdf  \n",
            "  inflating: עזרא ובניו סחרוב- 4.4.21.pdf  \n",
            "  inflating: שגב קונספט- ילדי טהרן- 5.4.21.pdf  \n",
            "  inflating: ביקורת- 01.06.2021.pdf  \n",
            "  inflating: ביקורת- 03.05.2021 (2).pdf  \n",
            "  inflating: ביקורת- 03.05.2021 (3).pdf  \n",
            "  inflating: ביקורת- 03.05.2021.pdf  \n",
            "  inflating: ביקורת- 06.04.2021.pdf  \n",
            "  inflating: ביקורת- 24.05.2021.pdf  \n",
            "  inflating: ביקורת- 27.05.2021.pdf  \n",
            "  inflating: דוח ביקורת (2).pdf  \n"
          ]
        }
      ]
    },
    {
      "cell_type": "code",
      "metadata": {
        "colab": {
          "base_uri": "https://localhost:8080/"
        },
        "id": "N9Sd3jXoVBLg",
        "outputId": "5b1097f6-3446-41f4-e72d-2c148b0f7dfc"
      },
      "source": [
        "# make sure the heb is here\n",
        "print(pytesseract.get_languages(config=''))"
      ],
      "execution_count": 5,
      "outputs": [
        {
          "output_type": "stream",
          "name": "stdout",
          "text": [
            "['heb', 'eng', 'osd']\n"
          ]
        }
      ]
    },
    {
      "cell_type": "code",
      "metadata": {
        "id": "p_sX6FmhUT8F"
      },
      "source": [
        "def prefix_lev_distance(text, prefix, tolerate):\n",
        "  text_prefix = text[:len(prefix)]\n",
        "  dist = Levenshtein.distance(text_prefix, prefix)\n",
        "  \n",
        "  return dist < tolerate\n",
        "\n",
        "\n",
        "def get_images_of_pages(pdf_path):\n",
        "  return pdf2image.convert_from_path(pdf_path)\n",
        "\n",
        "\n",
        "def get_lines_of_page(page):\n",
        "  text = pytesseract.image_to_string(page, lang=\"heb\")\n",
        "  return text.split('\\n')\n",
        "\n",
        "\n",
        "def get_rest_name(lines):\n",
        "  INDICATOR = 'הנדון : ליקויים תברואיים בבית העסק'\n",
        "  TOLERATE_INDICATOR = 4\n",
        "\n",
        "  # these are worse indicators, but they can work if we couldn't find the first indicator\n",
        "  RISKY_INDICATORS = ['מסעדת', 'מרכול']\n",
        "\n",
        "  # we don't have the actual string that we matched, but we can skip the correct number of chars\n",
        "  number_of_chars_to_skip = len(INDICATOR.replace(':', '').replace('  ', ' '))\n",
        "\n",
        "  for line in lines:\n",
        "    # sometimes 'שבבעלותך' appears and sometimes not.\n",
        "    line = line.replace('שבבעלותך', '').replace('  ', ' ')\n",
        "    if prefix_lev_distance(line, INDICATOR, TOLERATE_INDICATOR):\n",
        "      rest_name = line.replace(':', '').replace('  ', ' ')[number_of_chars_to_skip:]\n",
        "\n",
        "      idx_of_dash = rest_name.find('-')\n",
        "      if idx_of_dash != -1:\n",
        "        rest_name = rest_name[:idx_of_dash]\n",
        "\n",
        "      return rest_name.strip()\n",
        "  \n",
        "  # the previous search couldn't find the name, we will try with a riskier approach\n",
        "  for line in lines:\n",
        "    if any(map(lambda indicator: indicator in line, RISKY_INDICATORS)):\n",
        "      rest_name = line\n",
        "\n",
        "      idx_of_dash = rest_name.find('-')\n",
        "      if idx_of_dash != -1:\n",
        "        rest_name = rest_name[:idx_of_dash]\n",
        "\n",
        "      return rest_name.strip()\n",
        "\n",
        "  return None\n",
        "\n",
        "\n",
        "def get_sanitary_level(lines):\n",
        "  INDICATOR = 'הרמה מבחינה \"תברואית וטרינרית\" שנמצאה במעמד הביקורת הינה'\n",
        "  TOLERATE_INDICATOR = 4\n",
        "\n",
        "  for line in lines:\n",
        "    if prefix_lev_distance(line, INDICATOR, TOLERATE_INDICATOR):\n",
        "      # the sanitary level will be the phrase after \":\", it can be more than 1 word\n",
        "      idx_of_colon = line.find(':')\n",
        "      return line[idx_of_colon + 1:].strip()\n",
        "  \n",
        "  return None\n",
        "\n",
        "\n",
        "def get_summary_of_findigs(lines):\n",
        "  INDICATOR_FOR_START = 'עיקרי הליקויים'\n",
        "  TOLERATE_INDICATOR_START = 3\n",
        "\n",
        "  INDICATORS_FOR_END = ['העתק:', 'כתובת:']\n",
        "  TOLERATE_INDICATOR_END = 2\n",
        "\n",
        "  idx_start_line = None\n",
        "  idx_end_line = None\n",
        "  for line_idx, line in enumerate(lines):\n",
        "    if idx_start_line is None and prefix_lev_distance(line, INDICATOR_FOR_START, TOLERATE_INDICATOR_START):\n",
        "      idx_start_line = line_idx + 1    # don't include this line\n",
        "    \n",
        "    if idx_start_line is not None and idx_end_line is None and any(map(lambda indicator: prefix_lev_distance(line, indicator, TOLERATE_INDICATOR_END), INDICATORS_FOR_END)):\n",
        "      idx_end_line = line_idx\n",
        "      \n",
        "      return '\\n'.join(lines[idx_start_line: idx_end_line])\n",
        "  \n",
        "  return None"
      ],
      "execution_count": 6,
      "outputs": []
    },
    {
      "cell_type": "code",
      "metadata": {
        "id": "UC4a2cMlWaUw"
      },
      "source": [
        "@dataclass\n",
        "class Location:\n",
        "    file_name: str\n",
        "    name: str\n",
        "    sanitary_level: str\n",
        "    summary_of_findings: str"
      ],
      "execution_count": 8,
      "outputs": []
    },
    {
      "cell_type": "code",
      "metadata": {
        "colab": {
          "base_uri": "https://localhost:8080/"
        },
        "id": "BAT-KotArRqP",
        "outputId": "acbd01b0-6e9d-472e-a4b3-8a85bbc86692"
      },
      "source": [
        "locations = []\n",
        "for file_path in tqdm(glob.glob(\"*.pdf\")):\n",
        "    pages = get_images_of_pages(file_path)\n",
        "    lines = get_lines_of_page(pages[0])\n",
        "    \n",
        "    location = Location(file_name=file_path, name=get_rest_name(lines), sanitary_level=get_sanitary_level(lines), summary_of_findings=get_summary_of_findigs(lines))\n",
        "    locations.append(location)\n",
        "    # print each iteration to see what is the output, it helped me tweek the extraction algorithm\n",
        "    print(location)"
      ],
      "execution_count": 9,
      "outputs": [
        {
          "output_type": "stream",
          "name": "stderr",
          "text": [
            "  1%|          | 1/85 [00:05<07:30,  5.37s/it]"
          ]
        },
        {
          "output_type": "stream",
          "name": "stdout",
          "text": [
            "Location(file_name='דוח ביקורת (44).pdf', name='מסעדת חופש מול הים', sanitary_level='גרועה', summary_of_findings='במקרר איחסון מאחסנים בצמוד בשר טרי ומזון מוכן לאכילה\\nמוצרים גולמיים ומוצרים מוכנים לאכילה באותו מקרר\\nכמות גדולה של חומר גלם המיועד לעיבוד, מוחזקת זמן רב מחוץ למקרר\\nראה פירוט בסוף הדו\"ח\\nבבית העסק לא קיימת תשתית מתאימה לעבודה עם מזון מהחי\\n\\nמצ\"ב דו\"ח ובו פירוט הליקויים שנמצאו בביקורת והערות לתיקון.\\n')\n"
          ]
        },
        {
          "output_type": "stream",
          "name": "stderr",
          "text": [
            "\r  2%|▏         | 2/85 [00:09<06:41,  4.83s/it]"
          ]
        },
        {
          "output_type": "stream",
          "name": "stdout",
          "text": [
            "Location(file_name='ביקורת- 06.04.2021.pdf', name=\"מטעדת ג'ירף\", sanitary_level='טובה', summary_of_findings='א : פרטי לבוש אישיים נמצאו בצמוד לעמדת העבודה\\n\\nבגדי עובדים בתא העליון במדור בשר; ציוד אישי בעמדת פס למשלוחים\\n\\nמצ\"ב דו\"ח ובו פירוט הליקויים שנמצאו בביקורת והערות לתיקון.\\n')\n"
          ]
        },
        {
          "output_type": "stream",
          "name": "stderr",
          "text": [
            "\r  4%|▎         | 3/85 [00:14<06:48,  4.98s/it]"
          ]
        },
        {
          "output_type": "stream",
          "name": "stdout",
          "text": [
            "Location(file_name='דוח ביקורת (29).pdf', name='אולמי סיי', sanitary_level='ירודה', summary_of_findings='תזרים הכנת המזון אינו תקין\\nראה פירוט בהערות כלליות סעיף 1\\nמוצרי מזון אשר תוקף חיי המדף שלהם פג נמצאו בבית העסק\\nבחדר הקפאה- מוצרי עוף ודגים פגי תוקף ומוצרי בשר טחון, בחלקו מבושל- הושמדו 20 ק\"ג\\n\\nמצ\"ב דו\"ח ובו פירוט הליקויים שנמצאו בביקורת והערות לתיקון.\\n\\nדר\\' יהונתץ אבן צור\\n')\n"
          ]
        },
        {
          "output_type": "stream",
          "name": "stderr",
          "text": [
            "\r  5%|▍         | 4/85 [00:19<06:20,  4.70s/it]"
          ]
        },
        {
          "output_type": "stream",
          "name": "stdout",
          "text": [
            "Location(file_name='דוח ביקורת (7).pdf', name=\"מסעדת ג'ק בורגר\", sanitary_level='בינוני', summary_of_findings='א : ירקות/ פירות מהשדה (לא שטופים) נמצאו בצמוד למזון מוכן לאכילה\\nירקות שטופים וירקות מהשדה מאוחסנים במקרר אחד\\nב : מקרר- מלוכלך\\nעם רוטב שנשפך בתוכו\\n\\nמצ\"ב דו\"ח ובו פירוט הליקויים שנמצאו בביקורת והערות לתיקון.\\n\\nבכבוד רב\\n')\n"
          ]
        },
        {
          "output_type": "stream",
          "name": "stderr",
          "text": [
            "\r  6%|▌         | 5/85 [00:24<06:18,  4.73s/it]"
          ]
        },
        {
          "output_type": "stream",
          "name": "stdout",
          "text": [
            "Location(file_name='דוח ביקורת 5 במאי 2021 (3).pdf', name='מסעדת פוקי בר', sanitary_level='ירודה', summary_of_findings='מזון מוכן לאכילה (מצונן) - נמדדה טמפרטורה גבוהה מהנדרש בחוק\\nבאזור הדגים- פס סלטים ודגים בטמפ\\' של מעל 10 מע\"צ\\n\\nתזרים הכנת המזון אינו תקין\\n\\nראה פירוט בהערות כלליות סעיף 1\\n\\nמצ\"ב דו\"ח ובו פירוט הליקויים שנמצאו בביקורת והערות לתיקון.\\n\\nדר\\' יהונתן\\nמנהל השירו\\n')\n"
          ]
        },
        {
          "output_type": "stream",
          "name": "stderr",
          "text": [
            "\r  7%|▋         | 6/85 [00:29<06:26,  4.89s/it]"
          ]
        },
        {
          "output_type": "stream",
          "name": "stdout",
          "text": [
            "Location(file_name='דוח ביקורת (32).pdf', name='קייטרינג סלטי משני', sanitary_level='גרועה', summary_of_findings='תזרים הכנת המזון אינו תקין\\n\\nראה פירוט בהערות כלליות סעיף 1\\n\\nמצ\"ב דו\"ח ובו פירוט הליקויים שנמצאו בביקורת והערות לתיקון.\\n\\nדר\\' יהונת]/אָבן צור\\n')\n"
          ]
        },
        {
          "output_type": "stream",
          "name": "stderr",
          "text": [
            "\r  8%|▊         | 7/85 [00:34<06:18,  4.85s/it]"
          ]
        },
        {
          "output_type": "stream",
          "name": "stdout",
          "text": [
            "Location(file_name='דוח ביקורת (11).pdf', name='מסעדת טוהו איזובר', sanitary_level='טובה', summary_of_findings='א + הנקיון בבית העסק לוקה בחסר\\nמכונות פריסת הדגים והבשר, ציוד במקררים, מדפים במחסן, מגירות עבודה עם ציפוי (יש להסיר)\\nב + במקרר האיחסון בשר בהמה ובעלי כנף מאוחסנים בצמידות\\n\\nמוצרי עוף ובקר מאוחסנים בצמידות באותו חדר קירור\\n\\nמצ\"ב דו\"ח ובו פירוט הליקויים שנמצאו בביקורת והערות לתיקון.\\n\\n<< בד רב\\n\\nדר\\' יהונתן אבן צור\\nמנהל השירות\\n\\n/\\n')\n"
          ]
        },
        {
          "output_type": "stream",
          "name": "stderr",
          "text": [
            "\r  9%|▉         | 8/85 [00:39<06:21,  4.95s/it]"
          ]
        },
        {
          "output_type": "stream",
          "name": "stdout",
          "text": [
            "Location(file_name='דוח ביקורת (23) (1).pdf', name='יוחננוף', sanitary_level=None, summary_of_findings=None)\n"
          ]
        },
        {
          "output_type": "stream",
          "name": "stderr",
          "text": [
            "\r 11%|█         | 9/85 [00:43<06:02,  4.77s/it]"
          ]
        },
        {
          "output_type": "stream",
          "name": "stdout",
          "text": [
            "Location(file_name='סלטים- סחרוב- 4.4.21.pdf', name='מסעדת סלטים', sanitary_level='ירודה', summary_of_findings='א : תזרים הכנת המזון אינו תקין\\nראה פירוט בהערות כלליות סעיף 1\\nב : קירות העסק אינם שלמים וחסרים אריחי קרמיקה\\nבאזורי העבודה חסר חיפוי קרמיקה\\n\\nמצ\"ב דו\"ח ובו פירוט הליקויים שנמצאו בביקורת והערות לתיקון.\\n\\nבכבוד רב\\n\\n   \\n\\nאבן צור\\n')\n"
          ]
        },
        {
          "output_type": "stream",
          "name": "stderr",
          "text": [
            "\r 12%|█▏        | 10/85 [00:48<05:56,  4.75s/it]"
          ]
        },
        {
          "output_type": "stream",
          "name": "stdout",
          "text": [
            "Location(file_name='דוח ביקורת (6).pdf', name='מסעזית שווארמה ראשונים', sanitary_level='ירודה', summary_of_findings=None)\n"
          ]
        },
        {
          "output_type": "stream",
          "name": "stderr",
          "text": [
            "\r 13%|█▎        | 11/85 [00:53<06:02,  4.90s/it]"
          ]
        },
        {
          "output_type": "stream",
          "name": "stdout",
          "text": [
            "Location(file_name='דוח ביקורת 24.05.2021.pdf', name='אולמי לאגו', sanitary_level='כמעט טובה', summary_of_findings='\\nבמקפיא נמצאו חבילות עם חלקי בשר שנארזו והוקפאו בבית העסק\\n\\nחלקי בשר וחלקי עוף מוכנים, הוקפאו בבית העסק - בוצעה השמדה\\n\\nמצ\"ב דו\"ח ובו פירוט הליקויים שנמצאו בביקורת והערות לתיקון.\\n\\nבכבוד רב\\nדר\\' יהונתן אבן צור\\n')\n"
          ]
        },
        {
          "output_type": "stream",
          "name": "stderr",
          "text": [
            "\r 14%|█▍        | 12/85 [00:58<06:06,  5.02s/it]"
          ]
        },
        {
          "output_type": "stream",
          "name": "stdout",
          "text": [
            "Location(file_name='דוח ביקורת (12).pdf', name='מטעדת פיתה בשר', sanitary_level='בינוני', summary_of_findings='א : מוצרי מזון אשר תוקף חיי המדף שלהם פג נמצאו בבית העסק\\n\\nחלקי עוף טריים בקופסאות של \"5 קצבים\" שהוקפאו ותוקפם פג ב-11.4.2021- הושמדו 20 ק\"ג\\nב : תזרים הכנת המזון אינו תקין\\n\\nראה פירוט בהערות כלליות סעיף 1\\n\\nג : חלקי בשר בשלבי הפשרה לצורך טחינה נראו מחוץ למקרר\\n\\nבשר טחון בהפשרה על שולחן העבודה\\n\\nמצ\"ב דו\"ח ובו פירוט הליקויים שנמצאו בביקורת והערות לתיקון.\\n\\n->>בלהוך רב\\nדר\\' יהונתן אבן צור\\nמנהל השיקות\\n')\n"
          ]
        },
        {
          "output_type": "stream",
          "name": "stderr",
          "text": [
            "\r 15%|█▌        | 13/85 [01:04<06:07,  5.10s/it]"
          ]
        },
        {
          "output_type": "stream",
          "name": "stdout",
          "text": [
            "Location(file_name='דוח ביקורת- 03.05.2021.pdf', name='מסעדת ארומה קריית הלאוס', sanitary_level='כמעט טובה', summary_of_findings='ירקות/ פירות מהשדה (לא שטופים) נמצאו בצמוד למזון מוכן לאכילה\\nבחדר קירור גיבוי: במקרר שירות\\nתזרים הכנת המזון אינו תקין\\nראה פירוט בהערות כלליות סעיף 1\\nהנקיון בבית העסק לוקה בחסר\\n\\nפירות שטופים מאוחסנים בכלים מלוכלכים\\n\\nמצ\"ב דו\"ח ובו פירוט הליקויים שנמצאו בביקורת והערות לתיקון.\\n\\nר\\' יהונת)/אבן צור\\nמנהל השירוה\\n')\n"
          ]
        },
        {
          "output_type": "stream",
          "name": "stderr",
          "text": [
            "\r 16%|█▋        | 14/85 [01:07<05:36,  4.74s/it]"
          ]
        },
        {
          "output_type": "stream",
          "name": "stdout",
          "text": [
            "Location(file_name='דוח ביקורת (8).pdf', name='מטעדת פורטו מיט', sanitary_level='טובה', summary_of_findings='א : תזרים הכנת המזון אינו תקין\\n\\nראה פירוט בהערות כלליות סעיף 1\\n\\nמצ\"ב דו\"ח ובו פירוט הליקויים שנמצאו בביקורת והערות לתיקון.\\n\\nבכבוד רב\\n\\n    \\n    \\n\\nמנהל השירו\\n')\n"
          ]
        },
        {
          "output_type": "stream",
          "name": "stderr",
          "text": [
            "\r 18%|█▊        | 15/85 [01:12<05:26,  4.67s/it]"
          ]
        },
        {
          "output_type": "stream",
          "name": "stdout",
          "text": [
            "Location(file_name='דוח ביקורת (14).pdf', name='מסעדת בי.בי.בי.', sanitary_level='טובה', summary_of_findings='א : תזרים הכנת המזון אינו תקין\\n\\nבמקרר פס סלטים מאחסנים ביצים גולמיות ביחד עם מזון מוכן- ביצים יש לאחסן בנפרד\\n\\nב : בבית העסק אין זרימת מים חמים בכיורים\\n\\nמצ\"ב דו\"ת ובו פירוט הליקויים שנמצאו בביקורת והערות לתיקון.\\n\\nבכבוד רב\\n\\n \\n   \\n \\n\\nמנהל השירו')\n"
          ]
        },
        {
          "output_type": "stream",
          "name": "stderr",
          "text": [
            "\r 19%|█▉        | 16/85 [01:17<05:23,  4.69s/it]"
          ]
        },
        {
          "output_type": "stream",
          "name": "stdout",
          "text": [
            "Location(file_name='דוח ביקורת 5 במאי 2021 (2).pdf', name='מסעדת דון בורגרס', sanitary_level='גרועה', summary_of_findings='\\nמזון מוכן לאכילה נמכר בטמפרטורה שאינה תקינה\\n\\nקופסאות עם מזון מהחי ורטבים מאוחסנות בטמפ\\' החדר\\n\\nתזרים הכנת המזון אינו תקין\\n\\nראה פירוט בהערות כלליות סעיף 1\\n\\nמצ\"ב דו\"ח ובו פירוט הליקויים שנמצאו בביקורת והערות לתיקון.\\n')\n"
          ]
        },
        {
          "output_type": "stream",
          "name": "stderr",
          "text": [
            "\r 20%|██        | 17/85 [01:21<05:00,  4.42s/it]"
          ]
        },
        {
          "output_type": "stream",
          "name": "stdout",
          "text": [
            "Location(file_name='דוח ביקורת (40).pdf', name='מסעדת טנדוויצ בר טוניסאי', sanitary_level='ירודה', summary_of_findings='\\nא + תזרים הכנת המזון אינו תקין\\n\\nתכנון העסק לקוי, אין מדורים וקיימות הרבה הצטלבויות\\n\\nמצ\"ב דו\"ח ובו פירוט הליקויים שנמצאו בביקורת והערות לתיקון.\\n')\n"
          ]
        },
        {
          "output_type": "stream",
          "name": "stderr",
          "text": [
            "\r 21%|██        | 18/85 [01:26<05:07,  4.60s/it]"
          ]
        },
        {
          "output_type": "stream",
          "name": "stdout",
          "text": [
            "Location(file_name='דוח ביקורת (47).pdf', name='מסעדת בורגרים', sanitary_level='ירודה', summary_of_findings='א : תזרים הכנת המזון אינו תקי\\n1\\n\\nראה פירוט בהערות כלליות סעיף 1\\nב : מים חמים - אין זרימת מים חמים בכל הברזים בעסק\\n\\nמצ\"ב דו\"ח ובו פירוט הליקויים שנמצאו בביקורת והערות לתיקון.\\n\\nרב\\n\\n \\n   \\n\\n=\\nדר\\' יהונתן\\nמנהל השירו\\n')\n"
          ]
        },
        {
          "output_type": "stream",
          "name": "stderr",
          "text": [
            "\r 22%|██▏       | 19/85 [01:30<05:09,  4.70s/it]"
          ]
        },
        {
          "output_type": "stream",
          "name": "stdout",
          "text": [
            "Location(file_name='דוח ביקורת (19) (1).pdf', name='מטעדת שניצל על הדרך', sanitary_level='גרועה', summary_of_findings='א : הנקיון בבית העסק לוקה בחסר\\nבית העסק מלוכלך מאוד\\nב : תזדרים הכנת המזון אינו תקין\\nאין חלוקה למדורים\\n\\nג התשתית אינה תואמת לתוכנית שהוגשה\\n\\nמצ\"ב דו\"ח ובו פירוט הליקויים שנמצאו בביקורת והערות לתיקון.\\n\\nבכבוד רב\\n\\nג\\nר\\' יהונתן אבן צור\\nמנהל השי\\n')\n"
          ]
        },
        {
          "output_type": "stream",
          "name": "stderr",
          "text": [
            "\r 24%|██▎       | 20/85 [01:35<05:05,  4.70s/it]"
          ]
        },
        {
          "output_type": "stream",
          "name": "stdout",
          "text": [
            "Location(file_name='דוח ביקורת (15) (1).pdf', name='מסעדת קרייזי מיט בעיימ', sanitary_level='לקויה', summary_of_findings='א : תזרים הכנת המזון אינו תקין\\nאין עבודה לפי מדורים; הפשרת בשר עופות במקרר סלטים\\nב : הפשרת הבשר בהמה/ בעלי כנף ודגים מתבצעת מחוץ למקרר\\nארגזים של עוף קפוא מחוץ למקפיא בשלבי הפשרה\\nג + במקפיא נמצאו חבילות עם חלקי בשר שנארזו והוקפאו בבית העסק\\n\\nבמקפיא- קופסאות עם בשר טחון מעובד שהוקפא- הושמדו 7.6 ק\"ג\\n\\nמצ\"ב דו\"ח ובו פירוט הליקויים שנמצאו בביקורת והערות לתיקון.\\n\\nבכבוד רב\\n\\n \\n')\n"
          ]
        },
        {
          "output_type": "stream",
          "name": "stderr",
          "text": [
            "\r 25%|██▍       | 21/85 [01:40<04:58,  4.66s/it]"
          ]
        },
        {
          "output_type": "stream",
          "name": "stdout",
          "text": [
            "Location(file_name='דוח ביקורת (16).pdf', name='מסעדת פנטזיה', sanitary_level='לקויה', summary_of_findings='א : תזרים הכנת המזון אינו תקין\\nראה פירוט בהערות כלליות סעיף 1\\nב : הנקין בבית העסק לוקה בחסר\\n\\nנעשה שימוש חוזר בקופסאות לא נקיות עם תוויות ישנות עליהן; קרשי חיתוך ופורס ביצים\\n\\nמצ\"ב דו\"ח ובו פירוט הליקויים שנמצאו בביקורת והערות לתיקון.\\n\\nבכבוד רב\\n\\n\"ו תן אבן צור\\n\\nמנהל השרות\\n')\n"
          ]
        },
        {
          "output_type": "stream",
          "name": "stderr",
          "text": [
            "\r 26%|██▌       | 22/85 [01:45<05:02,  4.80s/it]"
          ]
        },
        {
          "output_type": "stream",
          "name": "stdout",
          "text": [
            "Location(file_name='דוח ביקורת 4 במאי 2021.pdf', name='מסעדת מלך השווארמה/רד מיט', sanitary_level='כמעט טובה', summary_of_findings='תזרים הכנת המזון אינו תקין\\nראה פירוט בהערות כלליות סעיף 1\\nמוצרים נמכרים בעסק שלא לפי הוראות יצרן\\n\\nנעשה שימוש חוזר בשיפוד שווארמה מיום קודם\\n\\nמצ\"ב דו\"ח ובו פירוט הליקויים שנמצאו בביקורת והערות לתיקון.\\n')\n"
          ]
        },
        {
          "output_type": "stream",
          "name": "stderr",
          "text": [
            "\r 27%|██▋       | 23/85 [01:50<05:08,  4.97s/it]"
          ]
        },
        {
          "output_type": "stream",
          "name": "stdout",
          "text": [
            "Location(file_name='דוח ביקורת (26).pdf', name=\"מסעדת ג'פניקה\", sanitary_level='כמעט טובה', summary_of_findings='דגים מאוחסנים ללא פתיתי קרח\\n\\nקלקרים ללא קרח עם דגים מאוחסנים על הרצפה מחוץ למקרר\\n\\nבמקרר עופות- בשר בהפשרה מתבוסס בנוזליו- יש להוציא מהאריזה לכלי עם ניקוז שמתחתיו כלי\\nמזון מוכן לאכילה (מצונן) - נמדדה טמפרטורה גבוהה מהנדרש בחוק\\n\\nבמקרר פס לסושי נמדדה טמפ\\' של 19 מע\"צ\\n\\nמצ\"ב דו\"ח ובו פירוט הליקויים שנמצאו בביקורת והערות לתיקון.\\n\\nמנהל השירות\\n')\n"
          ]
        },
        {
          "output_type": "stream",
          "name": "stderr",
          "text": [
            "\r 28%|██▊       | 24/85 [01:56<05:15,  5.17s/it]"
          ]
        },
        {
          "output_type": "stream",
          "name": "stdout",
          "text": [
            "Location(file_name='דוח ביקורת (24).pdf', name='מסעדת אגאדיר', sanitary_level='ירודה', summary_of_findings='ירקות/ פירות מהשדה (לא שטופים) נמצאו בצמוד למזון מוכן לאכילה\\nכיור שטיפת הירקות אינו שמיש. ירקות מהשדה נמצאים באזורים שונים במטבח ובמקררים\\n\\nתזרים הכנת המזון אינו תקין\\n\\nראה פירוט בהערות כלליות סעיף 2\\n\\nבמקרר איחסון מאחסנים בצמוד בשר טרי ומזון מוכן לאכילה\\n\\nבמקרר בשר נמצא גסטרונום עם בשר מוכן מבושל\\n\\nמצ\"ב דו\"ח ובו פירוט הליקויים שנמצאו בביקורת והערות לתיקון.\\n\\nבכבוד רב\\n')\n"
          ]
        },
        {
          "output_type": "stream",
          "name": "stderr",
          "text": [
            "\r 29%|██▉       | 25/85 [02:01<05:06,  5.11s/it]"
          ]
        },
        {
          "output_type": "stream",
          "name": "stdout",
          "text": [
            "Location(file_name='דוח ליקויים 17.06.2021.pdf', name='מסעדת סלטים', sanitary_level='גרועה', summary_of_findings='ביצים- איחסון הביצים מתבצע מחוץ למקרר\\n\\nביצים עם עובש נמצאו במגירות האחסון (פג תוקף)\\n\\nמצ\"ב דו\"ח ובו פירוט הליקויים שנמצאו בביקורת והערות לתיקון.\\n\\nבכבוד רב\\n')\n"
          ]
        },
        {
          "output_type": "stream",
          "name": "stderr",
          "text": [
            "\r 31%|███       | 26/85 [02:05<04:49,  4.91s/it]"
          ]
        },
        {
          "output_type": "stream",
          "name": "stdout",
          "text": [
            "Location(file_name='דוח ביקורת (3).pdf', name='מסעדת קפה לנדוור', sanitary_level='לקויה', summary_of_findings='א : תזרים הכנת המזון אינו תקין\\n\\nראה פירוט בהערות כלליות סעיף 1\\n\\nמצ\"ב דו\"ח ובו פירוט הליקויים שנמצאו בביקורת והערות לתיקון.\\n\\nבכבוד רב\\n\\n   \\n')\n"
          ]
        },
        {
          "output_type": "stream",
          "name": "stderr",
          "text": [
            "\r 32%|███▏      | 27/85 [02:11<04:52,  5.05s/it]"
          ]
        },
        {
          "output_type": "stream",
          "name": "stdout",
          "text": [
            "Location(file_name='דוח ביקורת (21).pdf', name='קייטרינג רוטי בסגנון ביתי', sanitary_level='גרועה', summary_of_findings=None)\n"
          ]
        },
        {
          "output_type": "stream",
          "name": "stderr",
          "text": [
            "\r 33%|███▎      | 28/85 [02:15<04:39,  4.90s/it]"
          ]
        },
        {
          "output_type": "stream",
          "name": "stdout",
          "text": [
            "Location(file_name='דוח ביקורת (16) (1).pdf', name='מסעדת פנטזיה', sanitary_level='לקויה', summary_of_findings='א : תזרים הכנת המזון אינו תקין\\nראה פירוט בהערות כלליות סעיף 1\\nב : הנקין בבית העסק לוקה בחסר\\n\\nנעשה שימוש חוזר בקופסאות לא נקיות עם תוויות ישנות עליהן; קרשי חיתוך ופורס ביצים\\n\\nמצ\"ב דו\"ח ובו פירוט הליקויים שנמצאו בביקורת והערות לתיקון.\\n\\nבכבוד רב\\n\\n\"ו תן אבן צור\\n\\nמנהל השרות\\n')\n"
          ]
        },
        {
          "output_type": "stream",
          "name": "stderr",
          "text": [
            "\r 34%|███▍      | 29/85 [02:21<04:41,  5.02s/it]"
          ]
        },
        {
          "output_type": "stream",
          "name": "stdout",
          "text": [
            "Location(file_name='דוח ביקורת (48).pdf', name='מסעדת בורגרס בר', sanitary_level='ירודה', summary_of_findings='\\nתזרים הכנת המזון אינו תקין\\n\\nראה פירוט בהערות כלליות סעיף 1\\n\\nבמקרר האיחסון בשר בהמה ובעלי כנף מאוחסנים בצמידות\\nהפשרת בשר בקר ועופות באותו מקרר\\nבמקרר איחסון מאחסנים בצמוד בשר טרי ומזון מוכן לאכילה\\n\\nבקבוקי שתיה במקרר בשר; בשר מוכן לאכילה ביחד עם ביצים ובשר מופשר\\n\\nמצ\"ב דו\"ח ובו פירוט הליקויים שנמצאו בביקורת והערות לתיקון.\\n\\nמנהל השירות\\n')\n"
          ]
        },
        {
          "output_type": "stream",
          "name": "stderr",
          "text": [
            "\r 35%|███▌      | 30/85 [02:26<04:43,  5.16s/it]"
          ]
        },
        {
          "output_type": "stream",
          "name": "stdout",
          "text": [
            "Location(file_name='דוח ביקורת (20) (1).pdf', name='סייטרינג שולחן מלכים', sanitary_level='ירודה', summary_of_findings='א : חלק ממוצרי המזון ללא התווית תאריכי תוקף/ ייצור\\n\\n3 ק\"ג דגי דניס ארוזים ללא תאריכים (הוקפאו בבית העסק)\\n\\nב יי תזרים הכנת המזון אינו תקין\\n\\nראה פירוט בהערות כלליות סעיף 1\\n\\nג במקרר איחסון מאחסנים בצמוד בשר טרי ומזון מוכן לאכילה\\n\\nבמקרר מזון בתהליך מאוחסנים בשר עופות גולמי ביחד עם מזון מוכן\\n\\nד : כלים ומשטחי עבודה משמשים לבשר בהמה ובעלי כנף בערבוביה\\n\\nבמדור בשר עובדים עם עופות\\n\\nה + מוצרי מזון אשר תוקף חיי המדף שלהם פג נמצאו בבית העסק\\n\\nבמקרר (של עוף ובקר)- נתחי עוף פגי תוקף (הושמדו 18 ק\"ג), בשר טחון, ירקות, דגים גולמיים ומזון מוכן\\n')\n"
          ]
        },
        {
          "output_type": "stream",
          "name": "stderr",
          "text": [
            "\r 36%|███▋      | 31/85 [02:31<04:38,  5.16s/it]"
          ]
        },
        {
          "output_type": "stream",
          "name": "stdout",
          "text": [
            "Location(file_name='דוח ביקורת (23).pdf', name='יוחננוף', sanitary_level=None, summary_of_findings=None)\n"
          ]
        },
        {
          "output_type": "stream",
          "name": "stderr",
          "text": [
            "\r 38%|███▊      | 32/85 [02:36<04:24,  4.99s/it]"
          ]
        },
        {
          "output_type": "stream",
          "name": "stdout",
          "text": [
            "Location(file_name='דוח ביקורת 3 במאי 2021.pdf', name=\"מסעדת צ'יינה טאון\", sanitary_level='ירודה', summary_of_findings=None)\n"
          ]
        },
        {
          "output_type": "stream",
          "name": "stderr",
          "text": [
            "\r 39%|███▉      | 33/85 [02:40<04:12,  4.85s/it]"
          ]
        },
        {
          "output_type": "stream",
          "name": "stdout",
          "text": [
            "Location(file_name='דוח ביקורת (14) (1).pdf', name='מסעדת בי.בי.בי.', sanitary_level='טובה', summary_of_findings='א : תזרים הכנת המזון אינו תקין\\n\\nבמקרר פס סלטים מאחסנים ביצים גולמיות ביחד עם מזון מוכן- ביצים יש לאחסן בנפרד\\n\\nב : בבית העסק אין זרימת מים חמים בכיורים\\n\\nמצ\"ב דו\"ת ובו פירוט הליקויים שנמצאו בביקורת והערות לתיקון.\\n\\nבכבוד רב\\n\\n \\n   \\n \\n\\nמנהל השירו')\n"
          ]
        },
        {
          "output_type": "stream",
          "name": "stderr",
          "text": [
            "\r 40%|████      | 34/85 [02:45<04:09,  4.89s/it]"
          ]
        },
        {
          "output_type": "stream",
          "name": "stdout",
          "text": [
            "Location(file_name='דוח ביקורת (33).pdf', name='מסעדת סלטי משני', sanitary_level='בינוני', summary_of_findings='חלק ממוצרי המזון ללא התווית תאריכי תוקף/ ייצור\\nבמקרר סלטים- סלטים ללא תווית כלל, לא ברור מקורם, לא הוצגו תעודות על קבלתם או מקורם\\nכמות גדולה של חומר גלם המיועד לעיבוד, מוחזקת זמן רב מחוץ למקרר\\n\\nגסטרונום עם קבב מוחזק בטמפ\\' אופפת\\n\\nמצ\"ב דו\"ח ובו פירוט הליקויים שנמצאו בביקורת והערות לתיקון.\\n\\nבכבוד רב\\n\\n₪\\n\\nר\\' יהוגתן אבן צור\\n')\n"
          ]
        },
        {
          "output_type": "stream",
          "name": "stderr",
          "text": [
            "\r 41%|████      | 35/85 [02:50<04:00,  4.81s/it]"
          ]
        },
        {
          "output_type": "stream",
          "name": "stdout",
          "text": [
            "Location(file_name='ביקורת- 03.05.2021 (2).pdf', name='מסעדת הראשון בשווארמה', sanitary_level='כמעט טובה', summary_of_findings='כמות גדולה של חומר גלם המיועד לעיבוד, מוחזקת זמן רב מחוץ למקרר\\nשיפוד שווארמה עומד מחוץ למקרר\\nתזרים הכנת המזון אינו תקין\\nהפשרת בשר מתבצעת במקרר סלטים- אין מקרר ייעודי לכך; אין עבודה לפי מדורים\\n\\nמצ\"ב דו\"ח ובו פירוט הליקויים שנמצאו בביקורת והערות לתיקון.\\n\\n,. בכבוד רב\\n')\n"
          ]
        },
        {
          "output_type": "stream",
          "name": "stderr",
          "text": [
            "\r 42%|████▏     | 36/85 [02:54<03:52,  4.75s/it]"
          ]
        },
        {
          "output_type": "stream",
          "name": "stdout",
          "text": [
            "Location(file_name='דוח ליקויים 26.05.2021.pdf', name='מסעדת טינגוס', sanitary_level='בינוני', summary_of_findings='תזרים הכנת המזון אינו תקין\\nראה פירוט בהערות כלליות סעיף 1\\nהנקיון בבית העסק לוקה בחסר\\nבמקרר עופות- קופסאות פלסטיק מלוכלכות ומכילות חלקי עוף\\nביצים לפני בישול נמצאו בצמוד למזון מוכן לאכילה\\n\\nבמדור הכנת סלטים, עמדת הפס מכילה ביצים גולמיות\\n\\nמצ\"ב דו\"ח ובו פירוט הליקויים שנמצאו בביקורת והערות לתיקון.\\n\\nמנהל השיוקות\\n')\n"
          ]
        },
        {
          "output_type": "stream",
          "name": "stderr",
          "text": [
            "\r 44%|████▎     | 37/85 [03:00<04:04,  5.10s/it]"
          ]
        },
        {
          "output_type": "stream",
          "name": "stdout",
          "text": [
            "Location(file_name='דוח ביקורת.pdf', name='מסעדת בורגר ראנץ', sanitary_level='כמעט טובה', summary_of_findings='א | : אוכל מוכן המונח בכלים שונים נראה ללא כיסוי וחשוף לזיהום\\n\\nבמקפיאים- המבורגרים ושניצלים חשופים\\n\\nב במקרר איחסון מאחסנים בצמוד בשר טרי ומזון מוכן לאכילה\\n\\nבמקרר הפשרות מאוחסנים ביחד רטבים, סלטים ובשר גולמי\\n\\nג : מזון מוכן לאכילה (מצונן) - נמדדה טמפרטורה גבוהה מהנדרש בחוק\\n\\nבעמדת הכנה מקוררת לסלטים- טמפ\\' אופפת של 11 מע\"צ\\n\\nמצ\"ב דו\"ח ובו פירוט הליקויים שנמצאו בביקורת והערות לתיקון.\\n\\nכבוד רב\\nדר\\' יהז א צור\\nמנהל השיוקות\\n\\n/')\n"
          ]
        },
        {
          "output_type": "stream",
          "name": "stderr",
          "text": [
            "\r 45%|████▍     | 38/85 [03:04<03:40,  4.69s/it]"
          ]
        },
        {
          "output_type": "stream",
          "name": "stdout",
          "text": [
            "Location(file_name='דוח ביקורת ליקויים 16.06.2021.pdf', name='מסעדת רודיס בורגר', sanitary_level='טובה', summary_of_findings='\\nא : כמות גדולה של חומר גלם המיועד לעיבוד, מוחזקת זמן רב מחוץ למקרר\\n\\nחזה עוף נמצא מחוץ למקרר\\n\\nמצ\"ב דו\"ח ובו פירוט הליקויים שנמצאו בביקורת והערות לתיקון.\\n\\n    \\n\\nמנהל השירות')\n"
          ]
        },
        {
          "output_type": "stream",
          "name": "stderr",
          "text": [
            "\r 46%|████▌     | 39/85 [03:08<03:29,  4.54s/it]"
          ]
        },
        {
          "output_type": "stream",
          "name": "stdout",
          "text": [
            "Location(file_name='דוח ביקורת (17).pdf', name='מטעדת סושיקטי', sanitary_level='לקויה', summary_of_findings='א : תזרים הכנת המזון אינו תקין\\n\\nראה פירוט בהערות כלליות סעיף 1\\n\\nמצ\"ב דו\"ח ובו פירוט הליקויים שנמצאו בביקורת והערות לתיקון.\\n\\nבכבוד רב\\n\\n   \\n')\n"
          ]
        },
        {
          "output_type": "stream",
          "name": "stderr",
          "text": [
            "\r 47%|████▋     | 40/85 [03:15<03:54,  5.21s/it]"
          ]
        },
        {
          "output_type": "stream",
          "name": "stdout",
          "text": [
            "Location(file_name='ביקורת- 27.05.2021.pdf', name='מסעדת קוקוטוגו', sanitary_level='גרועה', summary_of_findings='במקרר איחסון מאחסנים בצמוד בשר טרי ומזון מוכן לאכילה\\nבמקרר- בשר ודגים גולמיים מאוחסנים בסמוך למזון מוכן לאכילה\\nבדגים המוצגים למכירה נמדדה טמפרטורה גבוהה\\n\\nבתצוגה- סלמון וטונה בטמפ\\' 15-16 מע\"צ- הושמדו\\nבמקפיא נמצאו חבילות עם חלקי בשר שנארזו והוקפאו בבית העסק\\nבקר גולמי פרוס שהופשר והוקפא ללא תיעוד למקור (לטענתם הובא מנאפיס)- בניגוד נהלי מ. הבריאו\\n\\nמצ\"ב דו\"ח ובו פירוט הליקויים שנמצאו בביקורת והערות לתיקון.\\n\\nאבן צור\\n')\n"
          ]
        },
        {
          "output_type": "stream",
          "name": "stderr",
          "text": [
            "\r 48%|████▊     | 41/85 [03:20<03:44,  5.09s/it]"
          ]
        },
        {
          "output_type": "stream",
          "name": "stdout",
          "text": [
            "Location(file_name='דוח ביקורת (2).pdf', name=\"מסעדת ביירן סיטי בע'/מ\", sanitary_level='גרועה', summary_of_findings='א במקרר איחסון מאחסנים בצמוד בשר טרי ומזון מוכן לאכילה\\n\\nבמקרר הפשרות- בשר טחון גולמי ביחד עם טחון מוכן לאכילה ומתובל עם רטבים\\n\\nב : הנקין בבית העסק לוקה בחסר\\n\\nראה פירוט בהערות כלליות סעיף 1\\n\\nמצ\"ב דו\"ח ובו פירוט הליקויים שנמצאו בביקורת והערות לתיקון.\\n\\n \\n  \\n\\nמנהל השירו\\n')\n"
          ]
        },
        {
          "output_type": "stream",
          "name": "stderr",
          "text": [
            "\r 49%|████▉     | 42/85 [03:25<03:32,  4.94s/it]"
          ]
        },
        {
          "output_type": "stream",
          "name": "stdout",
          "text": [
            "Location(file_name='דוח ביקורת ליקויים.pdf', name='מסעדת אושי אושי', sanitary_level='בינוני', summary_of_findings='תזרים הכנת המזון אינו תקין\\n\\nראה פירוט בהערות כלליות סעיף 1\\n\\nמצ\"ב דו\"ח ובו פירוט הליקויים שנמצאו בביקורת והערות לתיקון.\\n')\n"
          ]
        },
        {
          "output_type": "stream",
          "name": "stderr",
          "text": [
            "\r 51%|█████     | 43/85 [03:30<03:29,  5.00s/it]"
          ]
        },
        {
          "output_type": "stream",
          "name": "stdout",
          "text": [
            "Location(file_name='דוח ביקורת (42).pdf', name='מסעדת טורו גריל', sanitary_level='ירודה', summary_of_findings='\\nהפשרת הבשר בהמה/ בעלי כנף ודגים מתבצעת מחוץ למקרר\\n\\nבטמפ\\' אופפת של 27 מע\"צ\\n\\nבמקפיא נמצאו חבילות עם חלקי בשר שנארזו והוקפאו בבית העסק\\n\\nבחדר ההקפאה- מוצרי ב.ע.ד.- הושמדו 10 ק\"ג\\n\\nהנקיון בבית העסק לוקה בחסר\\n\\nראה פירוט בהערות כלליות סעיף 2\\n\\nמצ\"ב דו\"ח ובו פירוט הליקויים שנמצאו בביקורת והערות לתיקון.\\n\\nדר\\' יהונתן\\nמנהל השירו\\n')\n"
          ]
        },
        {
          "output_type": "stream",
          "name": "stderr",
          "text": [
            "\r 52%|█████▏    | 44/85 [03:35<03:30,  5.13s/it]"
          ]
        },
        {
          "output_type": "stream",
          "name": "stdout",
          "text": [
            "Location(file_name='דוח ביקורת 5 במאי 2021 (4).pdf', name='מסעדת שגב אקספרס', sanitary_level='כמעט טובה', summary_of_findings='דגים/מוצריהם נמצאו בטמפרטורה גבוהה מהמותר מחוץ למקרר\\nבחדר עבודה דגים- כמות גדולה של דגים בטמפ\\' של 10 מע\"צ\\nירקות/ פירות מהשדה (לא שטופים) נמצאו בצמוד למזון מוכן לאכילה\\nירקות לא שטופים בעמדת חיתוך ירקות ובחדר קירור ירקות\\nכלים ומשטחי עבודה משמשים לבשר בהמה ובעלי כנף בערבוביה\\n\\nמצ\"ב דו\"ח ובו פירוט הליקויים שנמצאו בביקורת והערות לתיקון.\\n\\nדר\\' יהונתן\\nמנהל השירות\\n')\n"
          ]
        },
        {
          "output_type": "stream",
          "name": "stderr",
          "text": [
            "\r 53%|█████▎    | 45/85 [03:40<03:23,  5.09s/it]"
          ]
        },
        {
          "output_type": "stream",
          "name": "stdout",
          "text": [
            "Location(file_name='דוח ביקורת (13).pdf', name='מסעדת אלעד הבאגט (יוסי)', sanitary_level='לקויה', summary_of_findings='א : תזרים הכנת המזון אינו תקין\\n\\nאין עבודה לפי מדורים; תהליך הכנת המזון אינו תקין\\n\\nב : במקרר- בשר בהפשרה מתבוסס בנוזליו- יש להפשיר בגסטרונום מרושת עם כלי לאיסוף הנוזלים\\nג : מוצרי מזון אשר תוקף חיי המדף שלהם פג נמצאו בבית העסק\\n\\nחלקי עוף- הושמדו 4 ק\"ג\\n\\nמצ\"ב דו\"ח ובו פירוט הליקויים שנמצאו בביקורת והערות לתיקון.\\n\\nבוד רב\\n\\' יהותן אמ צור\\n\\nמנהל ה')\n"
          ]
        },
        {
          "output_type": "stream",
          "name": "stderr",
          "text": [
            "\r 54%|█████▍    | 46/85 [03:44<03:09,  4.87s/it]"
          ]
        },
        {
          "output_type": "stream",
          "name": "stdout",
          "text": [
            "Location(file_name='דוח ביקורת 5 במאי 2021.pdf', name='מסעדת בהדונסי', sanitary_level='גרועה', summary_of_findings='עבודה וקבלת אספקת בשר בצורה לא תקינה- ראה פירוט בהערות כלליות סעיף 1\\n1 1 1\\n\\nמצ\"ב דו\"ח ובו פירוט הליקויים שנמצאו בביקורת והערות לתיקון.\\n')\n"
          ]
        },
        {
          "output_type": "stream",
          "name": "stderr",
          "text": [
            "\r 55%|█████▌    | 47/85 [03:49<02:59,  4.72s/it]"
          ]
        },
        {
          "output_type": "stream",
          "name": "stdout",
          "text": [
            "Location(file_name='דוח ביקורת (49).pdf', name='סטופ מרקט', sanitary_level='טובה', summary_of_findings='מזון מוכן לאכילה (מצונן) - נמדדה טמפרטורה גבוהה מהנדרש בחוק\\n\\nבמקרר פס סלטים- מוצרים בטמפ\\' של 13 מע\"צ וטמפ\\' המקרר 7 מע\"צ\\n\\nמצ\"ב דו\"ח ובו פירוט הליקויים שנמצאו בביקורת והערות לתיקון.\\n\\nדר\\' יהונתן\\n\\nמנהל השירו')\n"
          ]
        },
        {
          "output_type": "stream",
          "name": "stderr",
          "text": [
            "\r 56%|█████▋    | 48/85 [03:55<03:12,  5.20s/it]"
          ]
        },
        {
          "output_type": "stream",
          "name": "stdout",
          "text": [
            "Location(file_name='דוח ביקורת (34).pdf', name='חצי חינם', sanitary_level=None, summary_of_findings='בבית העסק נעשות פעולות יצרניות בניגוד לתנאי הרישיון\\nנמצאו קרטונים לאריזת ביצים; במקררי השרות- כמויות של גבינות ונקניקים שגורדו/נפרסו מראש\\nתהליכי זרימת מוצרי מזון בבית העסק לקויים\\nראה פירוט בסוף הדו\"ח\\n\\nאת הליקויים יש לתקן תוך שבועיים מיום קבלתך מכתב זה.\\nבמידה ולא יתוקנו הליקויים כאמור נאלץ לנקוט נגדך בכל האמצעים החוקיים העומדים לרשותנו.\\n\\nדר\\' יהונוץ אבן צור\\n')\n"
          ]
        },
        {
          "output_type": "stream",
          "name": "stderr",
          "text": [
            "\r 58%|█████▊    | 49/85 [04:00<03:05,  5.16s/it]"
          ]
        },
        {
          "output_type": "stream",
          "name": "stdout",
          "text": [
            "Location(file_name='דוח ביקורת (28).pdf', name='מסעדת סוסו אנד סאנט', sanitary_level='כמעט טובה', summary_of_findings='חלקי עוף בהפשרה מתבוססים בנוזליהם- יש להניח בכלי מרושת עם כלי נוסף מתחתיו לקליטת\\nתזרים הכנת המזון אינו תקין\\n\\nבמדור עבודה עם בשר גולמי נמצאה פלטת חימום\\n\\nמצ\"ב דו\"ח ובו פירוט הליקויים שנמצאו בביקורת והערות לתיקון.\\n\\nבכבוד רב\\nדר\\' יהונתן אבן צור\\n')\n"
          ]
        },
        {
          "output_type": "stream",
          "name": "stderr",
          "text": [
            "\r 59%|█████▉    | 50/85 [04:06<03:07,  5.35s/it]"
          ]
        },
        {
          "output_type": "stream",
          "name": "stdout",
          "text": [
            "Location(file_name='דוח ביקורת- 30.06.2021.pdf', name='מסעדת קמפניה', sanitary_level='גרועה', summary_of_findings='בשר ממקור לא מאושר- ראה פירוט בהערות כלליות סעיף 2\\n\\nתזרים הכנת המזון אינו תקין\\nראה פירוט בהערות כלליות סעיף 1\\nבמקרר נמצאו קרטונים עם עופות / חלקי עופות ללא התוויה כנדרש בחוק\\n\\nבשר בקר ללא התוויה וסימון- הושמדו 60 ק\"ג\\n\\nמצ\"ב דו\"ח ובו פירוט הליקויים שנמצאו בביקורת והערות לתיקון.\\n\\nבכבוד רב\\n\\nמנהל השיר\\n')\n"
          ]
        },
        {
          "output_type": "stream",
          "name": "stderr",
          "text": [
            "\r 60%|██████    | 51/85 [04:09<02:41,  4.76s/it]"
          ]
        },
        {
          "output_type": "stream",
          "name": "stdout",
          "text": [
            "Location(file_name='דוח ביקורת (46).pdf', name='אולמי תרין', sanitary_level='טובה', summary_of_findings=None)\n"
          ]
        },
        {
          "output_type": "stream",
          "name": "stderr",
          "text": [
            "\r 61%|██████    | 52/85 [04:14<02:33,  4.65s/it]"
          ]
        },
        {
          "output_type": "stream",
          "name": "stdout",
          "text": [
            "Location(file_name='דוח ביקורת (22).pdf', name=None, sanitary_level=None, summary_of_findings='מים חמים - אין זרימת מים חמים בבית העסק\\n\\nאת הליקויים יש לתקן תוך שבועיים מיום קבלתך מכתב זה.\\nבמידה ולא יתוקנו הליקויים כאמור נאלץ לנקוט נגדך בכל האמצעים החוקיים העומדים לרשותנו.\\n\\nבכבוד רב\\n')\n"
          ]
        },
        {
          "output_type": "stream",
          "name": "stderr",
          "text": [
            "\r 62%|██████▏   | 53/85 [04:18<02:24,  4.52s/it]"
          ]
        },
        {
          "output_type": "stream",
          "name": "stdout",
          "text": [
            "Location(file_name='דוח ביקורת 7 ביוני 2021.pdf', name='סייטרינג ברכה משולשת', sanitary_level='טובה מאוד', summary_of_findings='הנקיון בבית העסק לוקה בחסר\\n\\nפותחן קופסאות חשמלי מלוכלך בחדר עבודה סלטים; מטחנה תעשייתית מלוכלכת\\n\\nמצ\"ב דו\"ח ובו פירוט הליקויים שנמצאו בביקורת והערות לתיקון.\\n\\nדר\\' יהונקן אבן צור\\nמנהל השיוקות')\n"
          ]
        },
        {
          "output_type": "stream",
          "name": "stderr",
          "text": [
            "\r 64%|██████▎   | 54/85 [04:23<02:22,  4.61s/it]"
          ]
        },
        {
          "output_type": "stream",
          "name": "stdout",
          "text": [
            "Location(file_name='דוח ביקורת (18) (1).pdf', name='מטעדת ישר לפיתה', sanitary_level='בינוני', summary_of_findings='א : אין התאמה בין התוכנית למצב הנמצא בשטח\\nב נמצאו מוצרים מהחי (בשר בהמות) ללא תעודות המעידות על מקורם ואף לא אותרו במערכת\\n\\nמצ\"ב דו\"ח ובו פירוט הליקויים שנמצאו בביקורת והערות לתיקון.\\n\\nבכבוד רב\\n\\n    \\n \\n\\nמנהל השיוקות\\n')\n"
          ]
        },
        {
          "output_type": "stream",
          "name": "stderr",
          "text": [
            "\r 65%|██████▍   | 55/85 [04:28<02:27,  4.90s/it]"
          ]
        },
        {
          "output_type": "stream",
          "name": "stdout",
          "text": [
            "Location(file_name='דוח ליקויים 10.05.2021.pdf', name='מסעדת נאפיס חולון', sanitary_level='כמעט טובה', summary_of_findings='\\nהפשרת הבשר בהמה/ בעלי כנף ודגים מתבצעת מחוץ למקרר\\n\\nבמדור בקר\\n\\nבמקרר האיחסון בשר בהמה ובעלי כנף מאוחסנים בצמידות\\nמקרר הפשרה משותף\\nבמקום נראו מוצרי ב.ע.ד מופשרים בכיור עם מים\\n\\nמקרר דגים-הפשרת דגים בתוך שקית, לא קיימת רשת לניקוז הנוזלים\\n\\nמצ\"ב דו\"ח ובו פירוט הליקויים שנמצאו בביקורת והערות לתיקון.\\n\\nבכבוד רב\\nאבן צור\\n')\n"
          ]
        },
        {
          "output_type": "stream",
          "name": "stderr",
          "text": [
            "\r 66%|██████▌   | 56/85 [04:33<02:20,  4.84s/it]"
          ]
        },
        {
          "output_type": "stream",
          "name": "stdout",
          "text": [
            "Location(file_name='דוח ביקורת (43).pdf', name='מסעדת ריבר נודלס בר', sanitary_level='בינוני', summary_of_findings='תזרים הכנת המזון אינו תקין\\n\\nראה פירוט בהערות כלליות סעיף 1\\n\\nבמקרר האיחסון בשר בהמה ובעלי כנף מאוחסנים בצמידות\\n\\nבמקרר הפשרה עופות נמצאו המבורגרים מבשר בהמות\\n\\nמצ\"ב דו\"ח ובו פירוט הליקויים שנמצאו בביקורת והערות לתיקון.\\n')\n"
          ]
        },
        {
          "output_type": "stream",
          "name": "stderr",
          "text": [
            "\r 67%|██████▋   | 57/85 [04:38<02:17,  4.89s/it]"
          ]
        },
        {
          "output_type": "stream",
          "name": "stdout",
          "text": [
            "Location(file_name='דוח ביקורת 4 במאי 2021 (3).pdf', name='מסעדת במבו', sanitary_level='בינוני', summary_of_findings='במקרר איחסון מאחסנים בצמוד בשר טרי ומזון מוכן לאכילה\\nעוף מוכן לאכילה במקרר עוף גולמי- הושמד ע\"י הבעלים\\nירקות/ פירות מהשדה (לא שטופים) נמצאו בצמוד למזון מוכן לאכילה\\nירקות לא שטופים נמצאו במדור חיתוך ירקות ובמקרר סלטים\\nתזרים הכנת המזון אינו תקין\\n\\nראה פירוט בהערות כלליות סעיף 1\\n\\nמצ\"ב דו\"ח ובו פירוט הליקויים שנמצאו בביקורת והערות לתיקון.\\n\\nר\\' יהונתן/אבן צור\\nמנהל השירו\\n')\n"
          ]
        },
        {
          "output_type": "stream",
          "name": "stderr",
          "text": [
            "\r 68%|██████▊   | 58/85 [04:42<02:02,  4.54s/it]"
          ]
        },
        {
          "output_type": "stream",
          "name": "stdout",
          "text": [
            "Location(file_name='דוח ביקורת (45).pdf', name='מסעדת מוזס', sanitary_level='כמעט טובה', summary_of_findings=None)\n"
          ]
        },
        {
          "output_type": "stream",
          "name": "stderr",
          "text": [
            "\r 69%|██████▉   | 59/85 [04:46<01:55,  4.43s/it]"
          ]
        },
        {
          "output_type": "stream",
          "name": "stdout",
          "text": [
            "Location(file_name='דוח ביקורת (17) (1).pdf', name='מטעדת סושיקטי', sanitary_level='לקויה', summary_of_findings='א : תזרים הכנת המזון אינו תקין\\n\\nראה פירוט בהערות כלליות סעיף 1\\n\\nמצ\"ב דו\"ח ובו פירוט הליקויים שנמצאו בביקורת והערות לתיקון.\\n\\nבכבוד רב\\n\\n   \\n')\n"
          ]
        },
        {
          "output_type": "stream",
          "name": "stderr",
          "text": [
            "\r 71%|███████   | 60/85 [04:51<01:52,  4.49s/it]"
          ]
        },
        {
          "output_type": "stream",
          "name": "stdout",
          "text": [
            "Location(file_name='ביקורת- 03.05.2021.pdf', name='מסעדת הראשון בשווארמה', sanitary_level='כמעט טובה', summary_of_findings='כמות גדולה של חומר גלם המיועד לעיבוד, מוחזקת זמן רב מחוץ למקרר\\nשיפוד שווארמה עומד מחוץ למקרר\\nתזרים הכנת המזון אינו תקין\\nהפשרת בשר מתבצעת במקרר סלטים- אין מקרר ייעודי לכך; אין עבודה לפי מדורים\\n\\nמצ\"ב דו\"ח ובו פירוט הליקויים שנמצאו בביקורת והערות לתיקון.\\n\\n,. בכבוד רב\\n')\n"
          ]
        },
        {
          "output_type": "stream",
          "name": "stderr",
          "text": [
            "\r 72%|███████▏  | 61/85 [04:56<01:51,  4.64s/it]"
          ]
        },
        {
          "output_type": "stream",
          "name": "stdout",
          "text": [
            "Location(file_name='עזרא ובניו סחרוב- 4.4.21.pdf', name='מסעדת שיפודי עזרא ובניו', sanitary_level='ירודה', summary_of_findings='\\nא : תזרים הכנת המזון אינו תקין\\n\\nבמדור עופות עובדים עם בשר בקר\\nב : בבית העסק מתבצעת פעילות ללא תשתית מתאימה\\n\\nמצ\"ב דו\"ח ובו פירוט הליקויים שנמצאו בביקורת והערות לתיקון.\\n\\n \\n')\n"
          ]
        },
        {
          "output_type": "stream",
          "name": "stderr",
          "text": [
            "\r 73%|███████▎  | 62/85 [05:00<01:45,  4.61s/it]"
          ]
        },
        {
          "output_type": "stream",
          "name": "stdout",
          "text": [
            "Location(file_name='דוח ליקויים 10.05.2021 (2).pdf', name='מסעדת שווארמה גריל בר', sanitary_level='בינוני', summary_of_findings=None)\n"
          ]
        },
        {
          "output_type": "stream",
          "name": "stderr",
          "text": [
            "\r 74%|███████▍  | 63/85 [05:06<01:47,  4.89s/it]"
          ]
        },
        {
          "output_type": "stream",
          "name": "stdout",
          "text": [
            "Location(file_name='ביקורת- 01.06.2021.pdf', name='מסעדת החוף הדרומי', sanitary_level='גרועה', summary_of_findings='במקרר איחסון מאחסנים בצמוד בשר טרי ומזון מוכן לאכילה\\n\\nבבית העסק חדר קירור אחד בו מאוחסנים ביחד מוצרים גולמיים ומוכנים\\n\\nתזרים הכנת המזון אינו תקין\\n\\nבחדר הקירור מאוחסנים ביחד מזון מוכן, מזון גולמי, ירקות שטופים ומהשדה, ביצים וגבינות\\n\\nמוצרי מזון אשר תוקף חיי המדף שלהם פג נמצאו בבית העסק\\n\\nבחדר הקירור נמצא סלט טונה עם מיונז מתאריך 25.5.2021- נזרק לפח\\n\\nמצ\"ב דו\"ח ובו פירוט הליקויים שנמצאו בביקורת והערות לתיקון.\\n\\nבכבוד רב\\n\\n< = דר יהונתן אבן צור\\n')\n"
          ]
        },
        {
          "output_type": "stream",
          "name": "stderr",
          "text": [
            "\r 75%|███████▌  | 64/85 [05:10<01:42,  4.87s/it]"
          ]
        },
        {
          "output_type": "stream",
          "name": "stdout",
          "text": [
            "Location(file_name='דוח ביקורת (18).pdf', name='מטעדת ישר לפיתה', sanitary_level='בינוני', summary_of_findings='א : אין התאמה בין התוכנית למצב הנמצא בשטח\\nב נמצאו מוצרים מהחי (בשר בהמות) ללא תעודות המעידות על מקורם ואף לא אותרו במערכת\\n\\nמצ\"ב דו\"ח ובו פירוט הליקויים שנמצאו בביקורת והערות לתיקון.\\n\\nבכבוד רב\\n\\n    \\n \\n\\nמנהל השיוקות\\n')\n"
          ]
        },
        {
          "output_type": "stream",
          "name": "stderr",
          "text": [
            "\r 76%|███████▋  | 65/85 [05:16<01:38,  4.93s/it]"
          ]
        },
        {
          "output_type": "stream",
          "name": "stdout",
          "text": [
            "Location(file_name='שגב קונספט- ילדי טהרן- 5.4.21.pdf', name='מטעדת שגב קונספט', sanitary_level='גרועה', summary_of_findings='א : מוצרי מזון אשר תוקף חיי המדף שלהם פג נמצאו בבית העסק\\n\\nמוצרי עוף במקרר מזון בתהליך; המבורגרים במקרר פס\\n\\nב : במקפיא נמצאו חבילות עם חלקי בשר שנארזו והוקפאו בבית העסק\\n\\nראה פירוט בהערות כלליות סעיף 1\\n\\nמצ\"ב דו\"ח ובו פירוט הליקויים שנמצאו בביקורת והערות לתיקון.\\n\\nבכבוד רב\\n\\n   \\n \\n\\nאבן צור\\nמנהל השי\\n')\n"
          ]
        },
        {
          "output_type": "stream",
          "name": "stderr",
          "text": [
            "\r 78%|███████▊  | 66/85 [05:20<01:32,  4.89s/it]"
          ]
        },
        {
          "output_type": "stream",
          "name": "stdout",
          "text": [
            "Location(file_name='דוח ביקורת (4).pdf', name='מטעדת לחם ארל', sanitary_level='לקויה', summary_of_findings='א מוצרי מזון אשר תוקף חיי המדף שלהם פג נמצאו בבית העסק\\nבמקפיא- נתחי עוף פגי תוקף- הושמדו 60 ק\"ג\\nב + תזרים הכנת המזון אינו תקין\\n\\nראה פירוט בהערות כלליות סעיף 1\\n\\nמצ\"ב דו\"ח ובו פירוט הליקויים שנמצאו בביקורת והערות לתיקון.\\n\\nבכבוד רב\\n\\n  \\n\\nמנהל השילות\\n')\n"
          ]
        },
        {
          "output_type": "stream",
          "name": "stderr",
          "text": [
            "\r 79%|███████▉  | 67/85 [05:25<01:24,  4.68s/it]"
          ]
        },
        {
          "output_type": "stream",
          "name": "stdout",
          "text": [
            "Location(file_name='ביקורת- 03.05.2021 (3).pdf', name='מסעדת ניו דלהי', sanitary_level='טובה מאוד', summary_of_findings='תזרים הכנת המזון אינו תקין\\nעגבניות לאחר שטיפה מלוכלכות- יש להסיר את \"העוקץ\" בזמן השטיפה מחשש לזיהום\\nבבית העסק אין זרימת מים חמים בכיורים\\nכיורים ללא סבון נוזלי\\n\\nמצ\"ב דו\"ח ובו פירוט הליקויים שנמצאו בביקורת והערות לתיקון.\\n\\nבכבוד רב\\n')\n"
          ]
        },
        {
          "output_type": "stream",
          "name": "stderr",
          "text": [
            "\r 80%|████████  | 68/85 [05:29<01:20,  4.74s/it]"
          ]
        },
        {
          "output_type": "stream",
          "name": "stdout",
          "text": [
            "Location(file_name='דוח ביקורת (50).pdf', name='מסעדת שווארמה על הים', sanitary_level='ירודה', summary_of_findings='חלק ממוצרי המזון ללא התווית תאריכי תוקף/ ייצור\\nמוצרי בשר ודגים, טריים וקפואים, ללא התוויה; במקפיא- שיפודי שווארמה, פיתות ודגים\\nתזרים הכנת המזון אינו תקין\\n\\nראה פירוט בהערות כלליות סעיף 1\\n\\nמצ\"ב דו\"ח ובו פירוט הליקויים שנמצאו בביקורת והערות לתיקון.\\n\\nדר\\' יהונתן אאן צור\\nמנהל השירות\\n')\n"
          ]
        },
        {
          "output_type": "stream",
          "name": "stderr",
          "text": [
            "\r 81%|████████  | 69/85 [05:35<01:19,  4.96s/it]"
          ]
        },
        {
          "output_type": "stream",
          "name": "stdout",
          "text": [
            "Location(file_name='דוח ביקורת (25).pdf', name='ק מסעדת פוד טרמינל', sanitary_level='בינוני', summary_of_findings='א : תזרים הכנת המזון אינו תקין\\nראה פירוט בהערות כלליות סעיף 1\\nב : מוצרי מזון אשר תוקף חיי המדף שלהם פג נמצאו בבית העסק\\nבשר קפוא פג תוקף- הושמדו 43 ק\"ג; עופות, חלב\\n\\nמצ\"ב דו\"ח ובו פירוט הליקויים שנמצאו בביקורת והערות לתיקון.\\n\\nבכבוד רב\\n\\n \\n')\n"
          ]
        },
        {
          "output_type": "stream",
          "name": "stderr",
          "text": [
            "\r 82%|████████▏ | 70/85 [05:40<01:16,  5.08s/it]"
          ]
        },
        {
          "output_type": "stream",
          "name": "stdout",
          "text": [
            "Location(file_name='דוח ביקורת (21) (1).pdf', name='קייטרינג רוטי בסגנון ביתי', sanitary_level='גרועה', summary_of_findings=None)\n"
          ]
        },
        {
          "output_type": "stream",
          "name": "stderr",
          "text": [
            "\r 84%|████████▎ | 71/85 [05:46<01:12,  5.18s/it]"
          ]
        },
        {
          "output_type": "stream",
          "name": "stdout",
          "text": [
            "Location(file_name='דוח ביקורת (20).pdf', name='סייטרינג שולחן מלכים', sanitary_level='ירודה', summary_of_findings='א : חלק ממוצרי המזון ללא התווית תאריכי תוקף/ ייצור\\n\\n3 ק\"ג דגי דניס ארוזים ללא תאריכים (הוקפאו בבית העסק)\\n\\nב יי תזרים הכנת המזון אינו תקין\\n\\nראה פירוט בהערות כלליות סעיף 1\\n\\nג במקרר איחסון מאחסנים בצמוד בשר טרי ומזון מוכן לאכילה\\n\\nבמקרר מזון בתהליך מאוחסנים בשר עופות גולמי ביחד עם מזון מוכן\\n\\nד : כלים ומשטחי עבודה משמשים לבשר בהמה ובעלי כנף בערבוביה\\n\\nבמדור בשר עובדים עם עופות\\n\\nה + מוצרי מזון אשר תוקף חיי המדף שלהם פג נמצאו בבית העסק\\n\\nבמקרר (של עוף ובקר)- נתחי עוף פגי תוקף (הושמדו 18 ק\"ג), בשר טחון, ירקות, דגים גולמיים ומזון מוכן\\n')\n"
          ]
        },
        {
          "output_type": "stream",
          "name": "stderr",
          "text": [
            "\r 85%|████████▍ | 72/85 [05:51<01:09,  5.33s/it]"
          ]
        },
        {
          "output_type": "stream",
          "name": "stdout",
          "text": [
            "Location(file_name='דוח ביקורת (36).pdf', name='אולמי פראיסו', sanitary_level='ירודה', summary_of_findings='\\nבמקום נראו מוצרי ב.ע.ד מופשרים בכיור עם מים\\n\\nמוצרי ב.ע.ד.\\n\\nבמקרר האיחסון בשר בהמה ובעלי כנף מאוחסנים בצמידות\\n\\nבמקרר עופות נמצאו בשר בקר ובצקים- יש לאחסן לפי הנהלים\\n\\nתזרים הכנת המזון אינו תקין\\n\\nבשר בקר ועופות נמצא ביחד בהפשרה; אין עבודה לפי מדורים\\n\\nבמקרר איחסון מאחסנים בצמוד בשר טרי ומזון מוכן לאכילה\\n\\nבמקרר עם בשר עוף מוכן לאכילה מאוחסן גם בשר בקר גולמי\\n')\n"
          ]
        },
        {
          "output_type": "stream",
          "name": "stderr",
          "text": [
            "\r 86%|████████▌ | 73/85 [05:57<01:03,  5.29s/it]"
          ]
        },
        {
          "output_type": "stream",
          "name": "stdout",
          "text": [
            "Location(file_name='דוח ביקורת (9).pdf', name='מסעדת קוקה קולה', sanitary_level='טובה', summary_of_findings='א : הנקיון בבית העסק לוקה בחסר\\nגסטרונומים לאחר שטיפה עם מדבקות ישנות- יש להקפיד להסיר; שימוש חוזר בארגזי ירקות מלוכלכים\\nב : במקרר נמצאו קרטונים עם עופות / חלקי עופות ללא התוויה כנדרש בחוק\\n\\nאין עקיבות- במקרר הפשרה נמצאו עופות בגסטרונומים עם מדבקות של בשר בקר\\n\\nמצ\"ב דו\"ח ובו פירוט הליקויים שנמצאו בביקורת והערות לתיקון.\\n\\n    \\n \\n\\n \\n  \\n\\nר\\' יהונתן צור\\n\\nמנהל השירות\\n')\n"
          ]
        },
        {
          "output_type": "stream",
          "name": "stderr",
          "text": [
            "\r 87%|████████▋ | 74/85 [06:01<00:56,  5.13s/it]"
          ]
        },
        {
          "output_type": "stream",
          "name": "stdout",
          "text": [
            "Location(file_name='דוח ליקויים 27.05.2021.pdf', name='מסעדת הברברי', sanitary_level='טובה', summary_of_findings='ניקוז כיור שטיפת ירקות, לא מחובר לתעלה והמים זורמים על הרצפה\\nנעשה שימוש במיכלים המיועדים לשימוש חד פעמי, שלא נוקו כראוי\\n\\nמצ\"ב דו\"ח ובו פירוט הליקויים שנמצאו בביקורת והערות לתיקון.\\n\\n> בכבוד רב\\n')\n"
          ]
        },
        {
          "output_type": "stream",
          "name": "stderr",
          "text": [
            "\r 88%|████████▊ | 75/85 [06:07<00:53,  5.34s/it]"
          ]
        },
        {
          "output_type": "stream",
          "name": "stdout",
          "text": [
            "Location(file_name='דוח ביקורת (35).pdf', name='מסעדת מיזו סושי בר', sanitary_level='גרועה', summary_of_findings='מוצרים נמכרים בעסק שלא לפי הוראות יצרן\\n\\nכמות גדולה של שניצלונים נמצאה מחוץ לבית העסק- הושמדו 20 ק\"ג; רטבים פתוחים מאוחסנים ללא\\n\\nחלק ממוצרי המזון ללא התווית תאריכי תוקף/ ייצור\\n\\nבמקרר סלטים- מוצרי מזון שונים בקופסאות ממוחזרות ללא התוויה\\n\\nמצ\"ב דו\"ח ובו פירוט הליקויים שנמצאו בביקורת והערות לתיקון.\\n\\nבכבוד רב\\n\\n= דר\\' יהונתן\\nמנהל השירות\\n')\n"
          ]
        },
        {
          "output_type": "stream",
          "name": "stderr",
          "text": [
            "\r 89%|████████▉ | 76/85 [06:12<00:48,  5.34s/it]"
          ]
        },
        {
          "output_type": "stream",
          "name": "stdout",
          "text": [
            "Location(file_name='דוח ביקורת (37).pdf', name='אולמי סאקורה', sanitary_level='ירודה', summary_of_findings='ירקות/ פירות מהשדה (לא שטופים) נמצאו בצמוד למזון מוכן לאכילה\\n\\nבמקרר\\n\\nביצים לפני בישול נמצאו בצמוד למזון מוכן לאכילה\\nבמקרר ביצים- ביצים גולמיות ביחד עם סלטים\\nבמקפיא התצוגה נמצא מוצרים בתהליך הפשרה\\n\\nמזון מוכן לאכילה ובשר גולמי שהפשירו- הושמדו 15 ק\"ג\\n\\nמצ\"ב דו\"ח ובו פירוט הליקויים שנמצאו בביקורת והערות לתיקון.\\n\\nדר\\' יהונתן אבן צור\\nמנהל השיר\\n')\n"
          ]
        },
        {
          "output_type": "stream",
          "name": "stderr",
          "text": [
            "\r 91%|█████████ | 77/85 [06:17<00:41,  5.22s/it]"
          ]
        },
        {
          "output_type": "stream",
          "name": "stdout",
          "text": [
            "Location(file_name='דוח ביקורת (5).pdf', name=\"מסעדת קינג ג'ורג'\", sanitary_level='ירודה', summary_of_findings='א : תזרים הכנת המזון אינו תקין\\n\\nראה פירוט בהערות כלליות סעיף 1\\n\\nב : הפשרת הבשר בהמה/ בעלי כנף ודגים מתבצעת מחוץ למקרר\\n\\nהפשרת דגים מתבצעת על שולחן העבודה\\n\\nמצ\"ב דו\"ח ובו פירוט הליקויים שנמצאו בביקורת והערות לתיקון.\\n\\nרב\\n\\n  \\n   \\n \\n\\nדר\\' יהונ\\nמנהל השי\\n\\nאבן צור\\n')\n"
          ]
        },
        {
          "output_type": "stream",
          "name": "stderr",
          "text": [
            "\r 92%|█████████▏| 78/85 [06:21<00:34,  4.87s/it]"
          ]
        },
        {
          "output_type": "stream",
          "name": "stdout",
          "text": [
            "Location(file_name='דוח ביקורת 4 במאי 2021 (2).pdf', name='מסעדת ריו', sanitary_level='בינוני', summary_of_findings='תזרים הכנת המזון אינו תקין\\nראה פירוט בהערות כלליות סעיף 1\\nהנקיון בבית העסק לוקה בחסר\\n\\nלכלוך מתחת לדלפק בעמדת פס ההכנות; בית העסק מאוד מלוכלך ומבולגן\\n\\nמצ\"ב דו\"ח ובו פירוט הליקויים שנמצאו בביקורת והערות לתיקון.\\n\\nדר\\' יהונתן\\nמנהל השירות\\n')\n"
          ]
        },
        {
          "output_type": "stream",
          "name": "stderr",
          "text": [
            "\r 93%|█████████▎| 79/85 [06:26<00:28,  4.75s/it]"
          ]
        },
        {
          "output_type": "stream",
          "name": "stdout",
          "text": [
            "Location(file_name='דוח ביקורת (10).pdf', name='מסעדת לחם בשר', sanitary_level='בינוני', summary_of_findings='א : במקרר האיחסון בשר בהמה ובעלי כנף מאוחסנים בצמידות\\nמקרר משותף לעוף ולבשר\\nב : תזרים הכנת המזון אינו תקין\\nראה פירוט בהערות כלליות סעיף 2\\nג + מוצרי מזון אשר תוקף חיי המדף שלהם פג נמצאו בבית העסק\\n\\nבמקרר דגים- סלמון פג תוקף בהפשרה\\n\\nמצ\"ב דו\"ח ובו פירוט הליקויים שנמצאו בביקורת והערות לתיקון.\\n\\n8 רב\\n\\' יְהוְּתֶן אבן צור\\nמנהל השיוקות\\n')\n"
          ]
        },
        {
          "output_type": "stream",
          "name": "stderr",
          "text": [
            "\r 94%|█████████▍| 80/85 [06:31<00:24,  4.82s/it]"
          ]
        },
        {
          "output_type": "stream",
          "name": "stdout",
          "text": [
            "Location(file_name='דוח ביקורת (27).pdf', name=\"מסעדת א.צ'יקן ברוסטר\", sanitary_level='לקויה', summary_of_findings='תזרים הכנת המזון אינו תקין\\nאין מדורים ותהליכי העבודה אינם תקניים\\nבמקום נראו מוצרי ב.ע.ד מופשרים בכיור עם מים\\nעופות בהפשרה מונחים בגסטרונומים עם מים\\n\\nהפשרת הבשר בהמה/ בעלי כנף ודגים מתבצעת מחוץ למקרר\\n\\nמצ\"ב דו\"ח ובו פירוט הליקויים שנמצאו בביקורת והערות לתיקון.\\n\\nמנהל השירו\\n')\n"
          ]
        },
        {
          "output_type": "stream",
          "name": "stderr",
          "text": [
            "\r 95%|█████████▌| 81/85 [06:35<00:18,  4.68s/it]"
          ]
        },
        {
          "output_type": "stream",
          "name": "stdout",
          "text": [
            "Location(file_name='דוח ביקורת (22) (1).pdf', name=None, sanitary_level=None, summary_of_findings='מים חמים - אין זרימת מים חמים בבית העסק\\n\\nאת הליקויים יש לתקן תוך שבועיים מיום קבלתך מכתב זה.\\nבמידה ולא יתוקנו הליקויים כאמור נאלץ לנקוט נגדך בכל האמצעים החוקיים העומדים לרשותנו.\\n\\nבכבוד רב\\n')\n"
          ]
        },
        {
          "output_type": "stream",
          "name": "stderr",
          "text": [
            "\r 96%|█████████▋| 82/85 [06:39<00:13,  4.52s/it]"
          ]
        },
        {
          "output_type": "stream",
          "name": "stdout",
          "text": [
            "Location(file_name='ביקורת- 24.05.2021.pdf', name=None, sanitary_level='בינוני', summary_of_findings='ביצים לפני בישול נמצאו בצמוד למזון מוכן לאכילה\\n\\nבחדר הקירור מאוחסנים ביחד ביצים, רטבים ושתיה\\n\\nמצ\"ב דו\"ח ובו פירוט הליקויים שנמצאו בביקורת והערות לתיקון.\\n\\nמנהל השירו\\n')\n"
          ]
        },
        {
          "output_type": "stream",
          "name": "stderr",
          "text": [
            "\r 98%|█████████▊| 83/85 [06:44<00:09,  4.63s/it]"
          ]
        },
        {
          "output_type": "stream",
          "name": "stdout",
          "text": [
            "Location(file_name='דוח ביקורת (41).pdf', name='אולמי בלוודר', sanitary_level='בינוני', summary_of_findings='א : מקקים נראו בבית העסק\\n\\nמקק נראה בחדר העבודה\\n\\nב : כמות גדולה של חומר גלם המיועד לעיבוד, מוחזקת זמן רב מחוץ למקרר\\n\\nנתחי בקר על שולחן העבודה ללא קירור\\n\\nמצ\"ב דו\"ח ובו פירוט הליקויים שנמצאו בביקורת והערות לתיקון.\\n')\n"
          ]
        },
        {
          "output_type": "stream",
          "name": "stderr",
          "text": [
            "\r 99%|█████████▉| 84/85 [06:49<00:04,  4.68s/it]"
          ]
        },
        {
          "output_type": "stream",
          "name": "stdout",
          "text": [
            "Location(file_name='דוח ביקורת (15).pdf', name='מסעדת קרייזי מיט בעיימ', sanitary_level='לקויה', summary_of_findings='א : תזרים הכנת המזון אינו תקין\\nאין עבודה לפי מדורים; הפשרת בשר עופות במקרר סלטים\\nב : הפשרת הבשר בהמה/ בעלי כנף ודגים מתבצעת מחוץ למקרר\\nארגזים של עוף קפוא מחוץ למקפיא בשלבי הפשרה\\nג + במקפיא נמצאו חבילות עם חלקי בשר שנארזו והוקפאו בבית העסק\\n\\nבמקפיא- קופסאות עם בשר טחון מעובד שהוקפא- הושמדו 7.6 ק\"ג\\n\\nמצ\"ב דו\"ח ובו פירוט הליקויים שנמצאו בביקורת והערות לתיקון.\\n\\nבכבוד רב\\n\\n \\n')\n"
          ]
        },
        {
          "output_type": "stream",
          "name": "stderr",
          "text": [
            "100%|██████████| 85/85 [06:54<00:00,  4.88s/it]"
          ]
        },
        {
          "output_type": "stream",
          "name": "stdout",
          "text": [
            "Location(file_name='דוח ביקורת (19).pdf', name='מטעדת שניצל על הדרך', sanitary_level='גרועה', summary_of_findings='א : הנקיון בבית העסק לוקה בחסר\\nבית העסק מלוכלך מאוד\\nב : תזדרים הכנת המזון אינו תקין\\nאין חלוקה למדורים\\n\\nג התשתית אינה תואמת לתוכנית שהוגשה\\n\\nמצ\"ב דו\"ח ובו פירוט הליקויים שנמצאו בביקורת והערות לתיקון.\\n\\nבכבוד רב\\n\\nג\\nר\\' יהונתן אבן צור\\nמנהל השי\\n')\n"
          ]
        },
        {
          "output_type": "stream",
          "name": "stderr",
          "text": [
            "\n"
          ]
        }
      ]
    },
    {
      "cell_type": "markdown",
      "metadata": {
        "id": "m_76yRqERwXG"
      },
      "source": [
        "That's good enough for now, we will now fix some of them manually."
      ]
    },
    {
      "cell_type": "code",
      "metadata": {
        "id": "2dnaz7vwchdM"
      },
      "source": [
        "def get_file_names_of_nones_in_cat(locations, getter):\n",
        "  return [location.file_name for location in locations if getter(location) is None]\n",
        "\n",
        "\n",
        "def fix_locations_in_cat(locations, setter, mapping):\n",
        "  for file_name_of_mapping, new_val in mapping.items():\n",
        "    # we got a small amount of locations, so we can do O(N^2)\n",
        "    for location in locations:\n",
        "      if location.file_name == file_name_of_mapping:\n",
        "        setter(location, new_val)"
      ],
      "execution_count": 10,
      "outputs": []
    },
    {
      "cell_type": "code",
      "metadata": {
        "colab": {
          "base_uri": "https://localhost:8080/"
        },
        "id": "LLcmaSEec338",
        "outputId": "7d242f53-496f-4523-fe4d-34d7b650905e"
      },
      "source": [
        "get_file_names_of_nones_in_cat(locations, lambda loc: loc.name)"
      ],
      "execution_count": 11,
      "outputs": [
        {
          "output_type": "execute_result",
          "data": {
            "text/plain": [
              "['דוח ביקורת (22).pdf', 'דוח ביקורת (22) (1).pdf', 'ביקורת- 24.05.2021.pdf']"
            ]
          },
          "metadata": {},
          "execution_count": 11
        }
      ]
    },
    {
      "cell_type": "code",
      "metadata": {
        "id": "6B2mVmQedaZi"
      },
      "source": [
        "def name_setter(location, new_val):\n",
        "  location.name = new_val\n",
        "\n",
        "\n",
        "mapping_for_name = {\n",
        "    'דוח ביקורת (22).pdf': 'יוחננוף מזון מוכן',\n",
        "    'דוח ביקורת (22) (1).pdf': 'יוחננוף מזון מוכן',\n",
        "    'ביקורת- 24.05.2021.pdf': 'אולמי סואול'\n",
        "}\n",
        "\n",
        "fix_locations_in_cat(locations, name_setter, mapping_for_name)\n",
        "assert len(get_file_names_of_nones_in_cat(locations, lambda loc: loc.name)) == 0"
      ],
      "execution_count": 12,
      "outputs": []
    },
    {
      "cell_type": "code",
      "metadata": {
        "colab": {
          "base_uri": "https://localhost:8080/"
        },
        "id": "mXNqDApqeonn",
        "outputId": "ab214bcd-73f5-4e82-b953-e1998b5efd61"
      },
      "source": [
        "get_file_names_of_nones_in_cat(locations, lambda loc: loc.sanitary_level)"
      ],
      "execution_count": 13,
      "outputs": [
        {
          "output_type": "execute_result",
          "data": {
            "text/plain": [
              "['דוח ביקורת (23) (1).pdf',\n",
              " 'דוח ביקורת (23).pdf',\n",
              " 'דוח ביקורת (34).pdf',\n",
              " 'דוח ביקורת (22).pdf',\n",
              " 'דוח ביקורת (22) (1).pdf']"
            ]
          },
          "metadata": {},
          "execution_count": 13
        }
      ]
    },
    {
      "cell_type": "code",
      "metadata": {
        "id": "N88VxMp2eudw"
      },
      "source": [
        "def sanitray_level_setter(location, new_val):\n",
        "  location.sanitary_level = new_val\n",
        "\n",
        "\n",
        "mapping_for_sanitary_level = {\n",
        "    'דוח ביקורת (23) (1).pdf': 'כמעט טובה',\n",
        "    'דוח ביקורת (23).pdf': 'כמעט טובה',\n",
        "    'דוח ביקורת (34).pdf': 'בינוני',\n",
        "    'דוח ביקורת (22).pdf': 'טובה מאוד',\n",
        "    'דוח ביקורת (22) (1).pdf': 'טובה מאוד'\n",
        "}\n",
        "\n",
        "fix_locations_in_cat(locations, sanitray_level_setter, mapping_for_sanitary_level)\n",
        "assert len(get_file_names_of_nones_in_cat(locations, lambda loc: loc.sanitary_level)) == 0"
      ],
      "execution_count": 14,
      "outputs": []
    },
    {
      "cell_type": "code",
      "metadata": {
        "colab": {
          "base_uri": "https://localhost:8080/"
        },
        "id": "ij2DVlWPfWd6",
        "outputId": "49b77616-af1c-40b0-c112-364884a8a85b"
      },
      "source": [
        "sanitary_counter = Counter([loc.sanitary_level for loc in locations])\n",
        "\n",
        "sanitary_counter"
      ],
      "execution_count": 15,
      "outputs": [
        {
          "output_type": "execute_result",
          "data": {
            "text/plain": [
              "Counter({'בינוני': 16,\n",
              "         'גרועה': 15,\n",
              "         'טובה': 10,\n",
              "         'טובה מאוד': 4,\n",
              "         'ירודה': 17,\n",
              "         'כמעט טובה': 13,\n",
              "         'לקויה': 10})"
            ]
          },
          "metadata": {},
          "execution_count": 15
        }
      ]
    },
    {
      "cell_type": "code",
      "metadata": {
        "colab": {
          "base_uri": "https://localhost:8080/",
          "height": 265
        },
        "id": "0BYGfFcff8Nk",
        "outputId": "e9c839cb-6a15-4e6f-d950-a7eacafa63dc"
      },
      "source": [
        "plt.bar([key[::-1] for key in sanitary_counter.keys()], sanitary_counter.values())\n",
        "plt.show()"
      ],
      "execution_count": 16,
      "outputs": [
        {
          "output_type": "display_data",
          "data": {
            "image/png": "[encoded data removed]",
            "text/plain": [
              "<Figure size 432x288 with 1 Axes>"
            ]
          },
          "metadata": {
            "needs_background": "light"
          }
        }
      ]
    },
    {
      "cell_type": "markdown",
      "metadata": {
        "id": "vX6J3gq5iZim"
      },
      "source": [
        "Most of the locations have \"ירודה\" sanitary level..."
      ]
    },
    {
      "cell_type": "markdown",
      "metadata": {
        "id": "MYavyNR9gp60"
      },
      "source": [
        "We will fix the missing summaries on the excel file itself after the export."
      ]
    },
    {
      "cell_type": "code",
      "metadata": {
        "colab": {
          "base_uri": "https://localhost:8080/",
          "height": 206
        },
        "id": "Q-6Ap8rJgoyU",
        "outputId": "1c8a6d68-80ba-424a-931d-b17aec6c78c7"
      },
      "source": [
        "data_dict = {\n",
        "    'file_name': [loc.file_name for loc in locations],\n",
        "    'business_name': [loc.name for loc in locations],\n",
        "    'sanitary_level': [loc.sanitary_level for loc in locations],\n",
        "    'summary_of_findings': [loc.summary_of_findings for loc in locations]\n",
        "}\n",
        "\n",
        "df = pd.DataFrame(data_dict)\n",
        "\n",
        "df.head()"
      ],
      "execution_count": 17,
      "outputs": [
        {
          "output_type": "execute_result",
          "data": {
            "text/html": [
              "<div>\n",
              "<style scoped>\n",
              "    .dataframe tbody tr th:only-of-type {\n",
              "        vertical-align: middle;\n",
              "    }\n",
              "\n",
              "    .dataframe tbody tr th {\n",
              "        vertical-align: top;\n",
              "    }\n",
              "\n",
              "    .dataframe thead th {\n",
              "        text-align: right;\n",
              "    }\n",
              "</style>\n",
              "<table border=\"1\" class=\"dataframe\">\n",
              "  <thead>\n",
              "    <tr style=\"text-align: right;\">\n",
              "      <th></th>\n",
              "      <th>file_name</th>\n",
              "      <th>business_name</th>\n",
              "      <th>sanitary_level</th>\n",
              "      <th>summary_of_findings</th>\n",
              "    </tr>\n",
              "  </thead>\n",
              "  <tbody>\n",
              "    <tr>\n",
              "      <th>0</th>\n",
              "      <td>דוח ביקורת (44).pdf</td>\n",
              "      <td>מסעדת חופש מול הים</td>\n",
              "      <td>גרועה</td>\n",
              "      <td>במקרר איחסון מאחסנים בצמוד בשר טרי ומזון מוכן ...</td>\n",
              "    </tr>\n",
              "    <tr>\n",
              "      <th>1</th>\n",
              "      <td>ביקורת- 06.04.2021.pdf</td>\n",
              "      <td>מטעדת ג'ירף</td>\n",
              "      <td>טובה</td>\n",
              "      <td>א : פרטי לבוש אישיים נמצאו בצמוד לעמדת העבודה\\...</td>\n",
              "    </tr>\n",
              "    <tr>\n",
              "      <th>2</th>\n",
              "      <td>דוח ביקורת (29).pdf</td>\n",
              "      <td>אולמי סיי</td>\n",
              "      <td>ירודה</td>\n",
              "      <td>תזרים הכנת המזון אינו תקין\\nראה פירוט בהערות כ...</td>\n",
              "    </tr>\n",
              "    <tr>\n",
              "      <th>3</th>\n",
              "      <td>דוח ביקורת (7).pdf</td>\n",
              "      <td>מסעדת ג'ק בורגר</td>\n",
              "      <td>בינוני</td>\n",
              "      <td>א : ירקות/ פירות מהשדה (לא שטופים) נמצאו בצמוד...</td>\n",
              "    </tr>\n",
              "    <tr>\n",
              "      <th>4</th>\n",
              "      <td>דוח ביקורת 5 במאי 2021 (3).pdf</td>\n",
              "      <td>מסעדת פוקי בר</td>\n",
              "      <td>ירודה</td>\n",
              "      <td>מזון מוכן לאכילה (מצונן) - נמדדה טמפרטורה גבוה...</td>\n",
              "    </tr>\n",
              "  </tbody>\n",
              "</table>\n",
              "</div>"
            ],
            "text/plain": [
              "                        file_name  ...                                summary_of_findings\n",
              "0             דוח ביקורת (44).pdf  ...  במקרר איחסון מאחסנים בצמוד בשר טרי ומזון מוכן ...\n",
              "1          ביקורת- 06.04.2021.pdf  ...  א : פרטי לבוש אישיים נמצאו בצמוד לעמדת העבודה\\...\n",
              "2             דוח ביקורת (29).pdf  ...  תזרים הכנת המזון אינו תקין\\nראה פירוט בהערות כ...\n",
              "3              דוח ביקורת (7).pdf  ...  א : ירקות/ פירות מהשדה (לא שטופים) נמצאו בצמוד...\n",
              "4  דוח ביקורת 5 במאי 2021 (3).pdf  ...  מזון מוכן לאכילה (מצונן) - נמדדה טמפרטורה גבוה...\n",
              "\n",
              "[5 rows x 4 columns]"
            ]
          },
          "metadata": {},
          "execution_count": 17
        }
      ]
    },
    {
      "cell_type": "code",
      "metadata": {
        "id": "BGyVOswUigMK"
      },
      "source": [
        "df.to_excel('rishon_lezion_sanitary.xlsx', index=False)"
      ],
      "execution_count": 18,
      "outputs": []
    }
  ]
}